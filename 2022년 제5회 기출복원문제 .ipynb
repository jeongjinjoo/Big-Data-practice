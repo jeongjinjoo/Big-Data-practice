{
  "nbformat": 4,
  "nbformat_minor": 0,
  "metadata": {
    "colab": {
      "provenance": [],
      "authorship_tag": "ABX9TyOC8Y+7aT3eeY5s7EZ4s+0O",
      "include_colab_link": true
    },
    "kernelspec": {
      "name": "python3",
      "display_name": "Python 3"
    },
    "language_info": {
      "name": "python"
    }
  },
  "cells": [
    {
      "cell_type": "markdown",
      "metadata": {
        "id": "view-in-github",
        "colab_type": "text"
      },
      "source": [
        "<a href=\"https://colab.research.google.com/github/jeongjinjoo/Big-Data-practice/blob/main/2022%EB%85%84%20%EC%A0%9C5%ED%9A%8C%20%EA%B8%B0%EC%B6%9C%EB%B3%B5%EC%9B%90%EB%AC%B8%EC%A0%9C%20.ipynb\" target=\"_parent\"><img src=\"https://colab.research.google.com/assets/colab-badge.svg\" alt=\"Open In Colab\"/></a>"
      ]
    },
    {
      "cell_type": "code",
      "execution_count": 1,
      "metadata": {
        "colab": {
          "base_uri": "https://localhost:8080/"
        },
        "id": "JrcPDdVHdEgj",
        "outputId": "5654a53d-3b30-4338-f4cb-deabd6314bee"
      },
      "outputs": [
        {
          "output_type": "stream",
          "name": "stdout",
          "text": [
            "Cloning into 'yemoonsaBigdata'...\n",
            "remote: Enumerating objects: 709, done.\u001b[K\n",
            "remote: Counting objects: 100% (346/346), done.\u001b[K\n",
            "remote: Compressing objects: 100% (231/231), done.\u001b[K\n",
            "remote: Total 709 (delta 156), reused 237 (delta 115), pack-reused 363\u001b[K\n",
            "Receiving objects: 100% (709/709), 11.46 MiB | 5.98 MiB/s, done.\n",
            "Resolving deltas: 100% (341/341), done.\n"
          ]
        }
      ],
      "source": [
        "!git clone https://github.com/AnalyticsKnight/yemoonsaBigdata/"
      ]
    },
    {
      "cell_type": "code",
      "source": [
        "import pandas as pd\n",
        "\n",
        "df = pd.read_csv('/content/yemoonsaBigdata/datasets/Part5/501_trash_bag.csv', encoding = 'cp949')\n",
        "print(df.head())"
      ],
      "metadata": {
        "colab": {
          "base_uri": "https://localhost:8080/"
        },
        "id": "hTPCDYPWdZ2P",
        "outputId": "c98196c4-599c-4e3a-cb69-7d51842d94df"
      },
      "execution_count": 4,
      "outputs": [
        {
          "output_type": "stream",
          "name": "stdout",
          "text": [
            "   시도명 시군구명       종류 처리방식      용도 사용대상  1L가격  1.5L가격  2L가격  2.5L가격  ...  5L가격  \\\n",
            "0  강원도  강릉시     규격봉투  매립용   생활쓰레기   기타     0       0     0       0  ...   130   \n",
            "1  강원도  강릉시  재사용규격봉투  매립용   생활쓰레기   기타     0       0     0       0  ...     0   \n",
            "2  강원도  고성군     규격봉투  소각용   생활쓰레기  가정용     0       0     0       0  ...   140   \n",
            "3  강원도  고성군     규격봉투  소각용  음식물쓰레기  가정용     0       0    60       0  ...   120   \n",
            "4  강원도  고성군   특수규격마대  매립용   생활쓰레기  가정용     0       0     0       0  ...     0   \n",
            "\n",
            "   10L가격  20L가격  30L가격  50L가격  60L가격  75L가격  100L가격  120L가격  125L가격  \n",
            "0    270    520      0   1250      0   1880       0       0       0  \n",
            "1    270    520      0      0      0      0       0       0       0  \n",
            "2    260    500      0   1220      0      0    2410       0       0  \n",
            "3      0      0      0      0      0      0       0       0       0  \n",
            "4      0      0      0   1540      0      0       0       0       0  \n",
            "\n",
            "[5 rows x 21 columns]\n"
          ]
        }
      ]
    },
    {
      "cell_type": "code",
      "source": [
        "print(df['용도'].unique())"
      ],
      "metadata": {
        "colab": {
          "base_uri": "https://localhost:8080/"
        },
        "id": "sad1IjFyd841",
        "outputId": "9d7c0c34-50d6-4aa3-f34c-5594b659c409"
      },
      "execution_count": 5,
      "outputs": [
        {
          "output_type": "stream",
          "name": "stdout",
          "text": [
            "['생활쓰레기' '음식물쓰레기']\n"
          ]
        }
      ]
    },
    {
      "cell_type": "code",
      "source": [
        "print(df['사용대상'].unique())"
      ],
      "metadata": {
        "colab": {
          "base_uri": "https://localhost:8080/"
        },
        "id": "d_ul9JyQefoi",
        "outputId": "e879b6e3-139e-49b1-b466-ca96ad6b3827"
      },
      "execution_count": 7,
      "outputs": [
        {
          "output_type": "stream",
          "name": "stdout",
          "text": [
            "['기타' '가정용' '사업장용' '영업용' '영업장용' '범용']\n"
          ]
        }
      ]
    },
    {
      "cell_type": "code",
      "source": [
        "df_filltered = df[(df['용도'] == '음식물쓰레기') & (df['사용대상'] == '가정용')]\n",
        "print(df_filltered)"
      ],
      "metadata": {
        "colab": {
          "base_uri": "https://localhost:8080/"
        },
        "id": "XglGlEpPemBO",
        "outputId": "bb0789f7-4530-442c-cbf0-94a94822f34b"
      },
      "execution_count": 13,
      "outputs": [
        {
          "output_type": "stream",
          "name": "stdout",
          "text": [
            "      시도명 시군구명    종류 처리방식      용도 사용대상  1L가격  1.5L가격  2L가격  2.5L가격  ...  5L가격  \\\n",
            "3     강원도  고성군  규격봉투  소각용  음식물쓰레기  가정용     0       0    60       0  ...   120   \n",
            "8     강원도  삼척시  규격봉투  매립용  음식물쓰레기  가정용     0       0     0       0  ...    80   \n",
            "9     강원도  양구군  규격봉투  매립용  음식물쓰레기  가정용     0       0    50       0  ...   120   \n",
            "12    강원도  양양군  규격봉투   기타  음식물쓰레기  가정용     0       0    40       0  ...    90   \n",
            "16    강원도  영월군  규격봉투  매립용  음식물쓰레기  가정용     0       0     0       0  ...   110   \n",
            "..    ...  ...   ...  ...     ...  ...   ...     ...   ...     ...  ...   ...   \n",
            "702  충청남도  보령시  규격봉투  소각용  음식물쓰레기  가정용     0       0    40       0  ...   100   \n",
            "718  충청남도  태안군  규격봉투   기타  음식물쓰레기  가정용     0       0    50       0  ...   130   \n",
            "736  충청북도  음성군  규격봉투  소각용  음식물쓰레기  가정용    80       0     0       0  ...   190   \n",
            "738  충청북도  제천시  규격봉투  매립용  음식물쓰레기  가정용    40       0     0       0  ...   100   \n",
            "747  충청북도  충주시  규격봉투  소각용  음식물쓰레기  가정용    60       0    90       0  ...   140   \n",
            "\n",
            "     10L가격  20L가격  30L가격  50L가격  60L가격  75L가격  100L가격  120L가격  125L가격  \n",
            "3        0      0      0      0      0      0       0       0       0  \n",
            "8      150    290      0      0      0      0       0       0       0  \n",
            "9      210    400      0      0      0      0       0       0       0  \n",
            "12     170    340      0      0      0      0       0       0       0  \n",
            "16     180    350      0    900      0   1350       0       0       0  \n",
            "..     ...    ...    ...    ...    ...    ...     ...     ...     ...  \n",
            "702    200    380      0      0      0      0       0       0       0  \n",
            "718    300    550    780      0      0      0       0       0       0  \n",
            "736    340    640      0      0      0      0       0       0       0  \n",
            "738    200      0      0      0      0      0       0       0       0  \n",
            "747    250    470      0      0      0      0       0       0       0  \n",
            "\n",
            "[101 rows x 21 columns]\n"
          ]
        }
      ]
    },
    {
      "cell_type": "code",
      "source": [
        "finall = df_filltered[df_filltered['2L가격'] != 0]\n",
        "print(finall.head())"
      ],
      "metadata": {
        "colab": {
          "base_uri": "https://localhost:8080/"
        },
        "id": "9e6gC9S6fPyk",
        "outputId": "f27d4b45-a8cf-45a4-b489-da26db7204a4"
      },
      "execution_count": 14,
      "outputs": [
        {
          "output_type": "stream",
          "name": "stdout",
          "text": [
            "    시도명 시군구명    종류 처리방식      용도 사용대상  1L가격  1.5L가격  2L가격  2.5L가격  ...  5L가격  \\\n",
            "3   강원도  고성군  규격봉투  소각용  음식물쓰레기  가정용     0       0    60       0  ...   120   \n",
            "9   강원도  양구군  규격봉투  매립용  음식물쓰레기  가정용     0       0    50       0  ...   120   \n",
            "12  강원도  양양군  규격봉투   기타  음식물쓰레기  가정용     0       0    40       0  ...    90   \n",
            "20  강원도  원주시  규격봉투   기타  음식물쓰레기  가정용     0       0    80       0  ...   170   \n",
            "33  강원도  춘천시  규격봉투  매립용  음식물쓰레기  가정용    40       0    50       0  ...   140   \n",
            "\n",
            "    10L가격  20L가격  30L가격  50L가격  60L가격  75L가격  100L가격  120L가격  125L가격  \n",
            "3       0      0      0      0      0      0       0       0       0  \n",
            "9     210    400      0      0      0      0       0       0       0  \n",
            "12    170    340      0      0      0      0       0       0       0  \n",
            "20    320    680      0   1690      0      0       0       0       0  \n",
            "33    230    470      0      0      0      0       0       0       0  \n",
            "\n",
            "[5 rows x 21 columns]\n"
          ]
        }
      ]
    },
    {
      "cell_type": "code",
      "source": [
        "print(finall['2L가격'].head(j))"
      ],
      "metadata": {
        "colab": {
          "base_uri": "https://localhost:8080/"
        },
        "id": "YDDPjIQLgQMH",
        "outputId": "a97c2df3-d28e-4402-a6d8-80fe40e902bc"
      },
      "execution_count": 15,
      "outputs": [
        {
          "output_type": "stream",
          "name": "stdout",
          "text": [
            "3     60\n",
            "9     50\n",
            "12    40\n",
            "20    80\n",
            "33    50\n",
            "Name: 2L가격, dtype: int64\n"
          ]
        }
      ]
    },
    {
      "cell_type": "code",
      "source": [
        "result = int(finall['2L가격'].mean())\n",
        "print(result)"
      ],
      "metadata": {
        "colab": {
          "base_uri": "https://localhost:8080/"
        },
        "id": "EHQkn2Bzgawd",
        "outputId": "02c75021-b015-420d-c682-ca92726b140f"
      },
      "execution_count": 19,
      "outputs": [
        {
          "output_type": "stream",
          "name": "stdout",
          "text": [
            "119\n"
          ]
        }
      ]
    },
    {
      "cell_type": "markdown",
      "source": [
        "BMI지수는 몸무게(kg)를 키(m)의 제곱으로 나누어 구하며, BMI값에 따른 비만도 분류는 다음과 같다. 이때 주어진 bmi 데이터 세트에서 비만도가 정상에 속하는 인원 수와 과체중에 속하는 인원 수의 차이를 정수로 출력하시오.[링크 텍스트](https://)"
      ],
      "metadata": {
        "id": "JbSlz1Zxg623"
      }
    },
    {
      "cell_type": "code",
      "source": [
        "import pandas as pd\n",
        "\n",
        "df = pd.read_csv('/content/yemoonsaBigdata/datasets/Part5/502_bmi.csv')"
      ],
      "metadata": {
        "id": "_B68Za7LhPjG"
      },
      "execution_count": 20,
      "outputs": []
    },
    {
      "cell_type": "code",
      "source": [
        "print(df.head())"
      ],
      "metadata": {
        "colab": {
          "base_uri": "https://localhost:8080/"
        },
        "id": "YxJKoveghbVa",
        "outputId": "06353548-edf9-4584-ffbf-fb8bf366bb8f"
      },
      "execution_count": 21,
      "outputs": [
        {
          "output_type": "stream",
          "name": "stdout",
          "text": [
            "   Gender  Height  Weight\n",
            "0    Male     174      96\n",
            "1    Male     189      87\n",
            "2  Female     185     110\n",
            "3  Female     195     104\n",
            "4    Male     149      61\n"
          ]
        }
      ]
    },
    {
      "cell_type": "code",
      "source": [
        "df['BMI'] = df['Height']/100\n",
        "df['BMI_f'] = (df['Weight'])/(df['BMI']**2)\n",
        "print(df.head())"
      ],
      "metadata": {
        "colab": {
          "base_uri": "https://localhost:8080/"
        },
        "id": "9Dc_dUZHkyNB",
        "outputId": "28c13435-345e-4466-f904-65ff47498e91"
      },
      "execution_count": 30,
      "outputs": [
        {
          "output_type": "stream",
          "name": "stdout",
          "text": [
            "   Gender  Height  Weight   BMI      BMI_f\n",
            "0    Male     174      96  1.74  31.708284\n",
            "1    Male     189      87  1.89  24.355421\n",
            "2  Female     185     110  1.85  32.140248\n",
            "3  Female     195     104  1.95  27.350427\n",
            "4    Male     149      61  1.49  27.476240\n"
          ]
        }
      ]
    },
    {
      "cell_type": "code",
      "source": [
        "result = len(df[(df['BMI_f'] >= 18.5) & (df['BMI_f'] < 23)] )\n",
        "print(result)"
      ],
      "metadata": {
        "colab": {
          "base_uri": "https://localhost:8080/"
        },
        "id": "bea916XXmIY4",
        "outputId": "60713677-1ae5-4403-9d35-5abe0462b9eb"
      },
      "execution_count": 34,
      "outputs": [
        {
          "output_type": "stream",
          "name": "stdout",
          "text": [
            "47\n"
          ]
        }
      ]
    },
    {
      "cell_type": "code",
      "source": [
        "result1 = len(df[(df['BMI_f'] >= 23) & (df['BMI_f'] < 25)] )\n",
        "print(result1)"
      ],
      "metadata": {
        "colab": {
          "base_uri": "https://localhost:8080/"
        },
        "id": "T7g-ndkPm9SJ",
        "outputId": "251511a0-f6c2-4973-808a-48b52b6403da"
      },
      "execution_count": 35,
      "outputs": [
        {
          "output_type": "stream",
          "name": "stdout",
          "text": [
            "19\n"
          ]
        }
      ]
    },
    {
      "cell_type": "code",
      "source": [
        "print(abs(result - result1))"
      ],
      "metadata": {
        "colab": {
          "base_uri": "https://localhost:8080/"
        },
        "id": "wMQCBa89nFBh",
        "outputId": "a55535d6-cb50-4aec-a6d1-c475538bb082"
      },
      "execution_count": 36,
      "outputs": [
        {
          "output_type": "stream",
          "name": "stdout",
          "text": [
            "28\n"
          ]
        }
      ]
    },
    {
      "cell_type": "markdown",
      "source": [
        "주어진 students데이터 세트는 각 학교의 학년별 총 전입학생, 총 전출학생, 전체 학생 수를 나타낸다. 순 전입학생 수는 총 전입학생 수에서 총 전출학생 수를 빼서 구할 수 있다. 순 전입학생이 가장 많은 학교의 전체 학생 수를 구하시오."
      ],
      "metadata": {
        "id": "X1NEbRgCnZTn"
      }
    },
    {
      "cell_type": "code",
      "source": [
        "import pandas as pd\n",
        "\n",
        "df = pd.read_csv('/content/yemoonsaBigdata/datasets/Part5/503_students.csv', encoding = 'cp949')\n",
        "print(df.head())"
      ],
      "metadata": {
        "colab": {
          "base_uri": "https://localhost:8080/"
        },
        "id": "Lm5JI9YxnWLO",
        "outputId": "6138fd63-1b8c-459a-c061-b1152ee2c7c0"
      },
      "execution_count": 39,
      "outputs": [
        {
          "output_type": "stream",
          "name": "stdout",
          "text": [
            "  학교  학년  총 전입학생  총 전출학생  전체 학생 수\n",
            "0  A   1       9       1      222\n",
            "1  A   2      13       4      148\n",
            "2  A   3       8       7      196\n",
            "3  B   1       7       5      171\n",
            "4  B   2       9       1      216\n"
          ]
        }
      ]
    },
    {
      "cell_type": "code",
      "source": [
        "df['순 전입학생 수'] = df['총 전입학생'] - df['총 전출학생']\n",
        "print(df.head())"
      ],
      "metadata": {
        "colab": {
          "base_uri": "https://localhost:8080/"
        },
        "id": "fM2G_mTgn9Ko",
        "outputId": "e743fccc-3592-4221-81bf-61c097bbb074"
      },
      "execution_count": 47,
      "outputs": [
        {
          "output_type": "stream",
          "name": "stdout",
          "text": [
            "  학교  학년  총 전입학생  총 전출학생  전체 학생 수  순 전입학생 수\n",
            "0  A   1       9       1      222         8\n",
            "1  A   2      13       4      148         9\n",
            "2  A   3       8       7      196         1\n",
            "3  B   1       7       5      171         2\n",
            "4  B   2       9       1      216         8\n"
          ]
        }
      ]
    },
    {
      "cell_type": "code",
      "source": [
        "result = df.groupby(['학교'])[['순 전입학생 수', '전체 학생 수']].sum()\n",
        "print(result.head())"
      ],
      "metadata": {
        "colab": {
          "base_uri": "https://localhost:8080/"
        },
        "id": "o7P2IrPIodD9",
        "outputId": "83278c2a-2fbd-4659-849b-20281c3b51dc"
      },
      "execution_count": 48,
      "outputs": [
        {
          "output_type": "stream",
          "name": "stdout",
          "text": [
            "    순 전입학생 수  전체 학생 수\n",
            "학교                   \n",
            "A         18      566\n",
            "B         13      588\n",
            "C         -9      528\n",
            "D          7      548\n",
            "E         14      603\n"
          ]
        }
      ]
    },
    {
      "cell_type": "code",
      "source": [
        "fin = result.loc[result['순 전입학생 수'] == result['순 전입학생 수'].max(), '전체 학생 수'].values[0]\n",
        "print(fin)"
      ],
      "metadata": {
        "colab": {
          "base_uri": "https://localhost:8080/"
        },
        "id": "aaUAE--ZpKUg",
        "outputId": "7f148bff-ec66-44db-d01c-a0e889e8ea5b"
      },
      "execution_count": 52,
      "outputs": [
        {
          "output_type": "stream",
          "name": "stdout",
          "text": [
            "566\n"
          ]
        }
      ]
    },
    {
      "cell_type": "code",
      "source": [
        "## 참고 - 뒤에 values[0]이 없을 경우\n",
        "result = rst_df.loc[rst_df['순 전입학생 수']==max(rst_df['순 전입학생 수']), '전체 학생 수']\n",
        "print(result) # 결과 값이 Series형태로 나옴"
      ],
      "metadata": {
        "colab": {
          "base_uri": "https://localhost:8080/",
          "height": 193
        },
        "id": "lnmpjgo7pmjp",
        "outputId": "9e39f9a1-f2d2-48c0-84fb-6cbc4a925937"
      },
      "execution_count": 51,
      "outputs": [
        {
          "output_type": "error",
          "ename": "NameError",
          "evalue": "name 'rst_df' is not defined",
          "traceback": [
            "\u001b[0;31m---------------------------------------------------------------------------\u001b[0m",
            "\u001b[0;31mNameError\u001b[0m                                 Traceback (most recent call last)",
            "\u001b[0;32m<ipython-input-51-d4be956ce58a>\u001b[0m in \u001b[0;36m<cell line: 2>\u001b[0;34m()\u001b[0m\n\u001b[1;32m      1\u001b[0m \u001b[0;31m## 참고 - 뒤에 values[0]이 없을 경우\u001b[0m\u001b[0;34m\u001b[0m\u001b[0;34m\u001b[0m\u001b[0m\n\u001b[0;32m----> 2\u001b[0;31m \u001b[0mresult\u001b[0m \u001b[0;34m=\u001b[0m \u001b[0mrst_df\u001b[0m\u001b[0;34m.\u001b[0m\u001b[0mloc\u001b[0m\u001b[0;34m[\u001b[0m\u001b[0mrst_df\u001b[0m\u001b[0;34m[\u001b[0m\u001b[0;34m'순 전입학생 수'\u001b[0m\u001b[0;34m]\u001b[0m\u001b[0;34m==\u001b[0m\u001b[0mmax\u001b[0m\u001b[0;34m(\u001b[0m\u001b[0mrst_df\u001b[0m\u001b[0;34m[\u001b[0m\u001b[0;34m'순 전입학생 수'\u001b[0m\u001b[0;34m]\u001b[0m\u001b[0;34m)\u001b[0m\u001b[0;34m,\u001b[0m \u001b[0;34m'전체 학생 수'\u001b[0m\u001b[0;34m]\u001b[0m\u001b[0;34m\u001b[0m\u001b[0;34m\u001b[0m\u001b[0m\n\u001b[0m\u001b[1;32m      3\u001b[0m \u001b[0mprint\u001b[0m\u001b[0;34m(\u001b[0m\u001b[0mresult\u001b[0m\u001b[0;34m)\u001b[0m \u001b[0;31m# 결과 값이 Series형태로 나옴\u001b[0m\u001b[0;34m\u001b[0m\u001b[0;34m\u001b[0m\u001b[0m\n",
            "\u001b[0;31mNameError\u001b[0m: name 'rst_df' is not defined"
          ]
        }
      ]
    }
  ]
}