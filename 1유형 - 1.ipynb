{
  "nbformat": 4,
  "nbformat_minor": 0,
  "metadata": {
    "colab": {
      "provenance": [],
      "authorship_tag": "ABX9TyP03YQfC2dX5yHv3EQxCXpy",
      "include_colab_link": true
    },
    "kernelspec": {
      "name": "python3",
      "display_name": "Python 3"
    },
    "language_info": {
      "name": "python"
    }
  },
  "cells": [
    {
      "cell_type": "markdown",
      "metadata": {
        "id": "view-in-github",
        "colab_type": "text"
      },
      "source": [
        "<a href=\"https://colab.research.google.com/github/jeongjinjoo/Big-Data-practice/blob/main/1%EC%9C%A0%ED%98%95%20-%201.ipynb\" target=\"_parent\"><img src=\"https://colab.research.google.com/assets/colab-badge.svg\" alt=\"Open In Colab\"/></a>"
      ]
    },
    {
      "cell_type": "code",
      "execution_count": 5,
      "metadata": {
        "colab": {
          "base_uri": "https://localhost:8080/"
        },
        "id": "uDRHyR113ymg",
        "outputId": "23c7c3e1-df4a-4432-c463-60e9adb188b0"
      },
      "outputs": [
        {
          "output_type": "stream",
          "name": "stdout",
          "text": [
            "                  channelid   subcnt    viewcnt  videocnt  \\\n",
            "0  UCkQCwnkQfgSuPTTnw_Y7v7w  1310000  410238653       736   \n",
            "1  UCkQCwnkQfgSuPTTnw_Y7v7w  1310000  412531322       736   \n",
            "2  UCkQCwnkQfgSuPTTnw_Y7v7w  1310000  412531322       735   \n",
            "3  UCkQCwnkQfgSuPTTnw_Y7v7w  1310000  412531322       737   \n",
            "4  UCkQCwnkQfgSuPTTnw_Y7v7w  1320000  412531322       737   \n",
            "\n",
            "                    ct channelname  \n",
            "0  2021-09-30 03:01:03         꽈뚜룹  \n",
            "1  2021-09-30 09:01:03         꽈뚜룹  \n",
            "2  2021-09-30 15:01:03         꽈뚜룹  \n",
            "3  2021-09-30 21:01:03         꽈뚜룹  \n",
            "4  2021-10-01 03:01:04         꽈뚜룹  \n",
            "       videopk  viewcnt  likecnt  dislikecnt  favoritecnt  cmcnt  \\\n",
            "0  c5JQp6xafqc  1667010    30474         706            0   6587   \n",
            "1  c5JQp6xafqc  1669089    30495         707            0   6589   \n",
            "2  c5JQp6xafqc  1674759    30522         711            0   6596   \n",
            "3  c5JQp6xafqc  1677026    30555         712            0   6604   \n",
            "4  c5JQp6xafqc  1681824    30585         713            0   6600   \n",
            "\n",
            "                    ct videoname  \n",
            "0  2021-10-10 15:20:03    공범 EP1  \n",
            "1  2021-10-10 15:30:03    공범 EP1  \n",
            "2  2021-10-10 15:40:02    공범 EP1  \n",
            "3  2021-10-10 15:50:03    공범 EP1  \n",
            "4  2021-10-10 16:00:03    공범 EP1  \n"
          ]
        }
      ],
      "source": [
        "import pandas as pd\n",
        "\n",
        "channel = pd.read_csv('https://raw.githubusercontent.com/Datamanim/datarepo/main/youtube/channelInfo.csv')\n",
        "video = pd.read_csv('https://raw.githubusercontent.com/Datamanim/datarepo/main/youtube/videoInfo.csv')\n",
        "\n",
        "print(channel.head())\n",
        "print(video.head())"
      ]
    },
    {
      "cell_type": "markdown",
      "source": [
        "각 데이터의 ‘ct’컬럼을 시간으로 인식할수 있게 datatype을 변경하고 video 데이터의 videoname의 각 value 마다 몇개의 데이터씩 가지고 있는지 확인하라"
      ],
      "metadata": {
        "id": "VoQ7e5aM5sXQ"
      }
    },
    {
      "cell_type": "code",
      "source": [
        "video['ct'] = pd.to_datetime(video['ct'])\n",
        "count_1 = video.videoname.value_counts()\n",
        "\n",
        "print(count_1)"
      ],
      "metadata": {
        "colab": {
          "base_uri": "https://localhost:8080/"
        },
        "id": "4xynIp0n4Bj1",
        "outputId": "b4d20c00-8c8e-4674-f6e3-9eac6b9c833a"
      },
      "execution_count": 12,
      "outputs": [
        {
          "output_type": "stream",
          "name": "stdout",
          "text": [
            "videoname\n",
            " 공범 EP1    3492\n",
            " 공범 EP2    3204\n",
            " 공범 EP3    2568\n",
            " 공범 EP4    2280\n",
            " 공범 EP5    1562\n",
            " 공범 EP6    1274\n",
            " 공범 EP7     555\n",
            " 공범 EP8     266\n",
            "Name: count, dtype: int64\n"
          ]
        }
      ]
    },
    {
      "cell_type": "markdown",
      "source": [
        "수집된 각 video의 가장 최신화 된 날짜의 viewcount값을  출력하라"
      ],
      "metadata": {
        "id": "eFHti_OW7UiA"
      }
    },
    {
      "cell_type": "code",
      "source": [
        "count_2 = video.sort_values(['videoname','ct']).drop_duplicates(['videoname'], keep='last')[['viewcnt','videoname','ct']].reset_index(drop=True)\n",
        "print(count_2)"
      ],
      "metadata": {
        "colab": {
          "base_uri": "https://localhost:8080/"
        },
        "id": "YwYSUQmZ7WLQ",
        "outputId": "b4a09158-352b-423c-83a2-3f701aa3674f"
      },
      "execution_count": 16,
      "outputs": [
        {
          "output_type": "stream",
          "name": "stdout",
          "text": [
            "   viewcnt videoname                  ct\n",
            "0  3180532    공범 EP1 2021-11-01 15:30:03\n",
            "1  2199328    공범 EP2 2021-11-01 15:30:03\n",
            "2  1671294    공범 EP3 2021-11-01 15:30:03\n",
            "3  1818493    공범 EP4 2021-11-01 15:30:03\n",
            "4  1503435    공범 EP5 2021-11-01 15:30:04\n",
            "5  1750222    공범 EP6 2021-11-01 15:30:04\n",
            "6  1630200    공범 EP7 2021-11-01 15:30:05\n",
            "7  1289088    공범 EP8 2021-11-01 15:30:05\n"
          ]
        }
      ]
    },
    {
      "cell_type": "markdown",
      "source": [
        "Channel 데이터중 2021-10-03일 이후 각 채널의 처음 기록 됐던 구독자 수(subcnt)를  출력하라"
      ],
      "metadata": {
        "id": "mBNSwK6h9-04"
      }
    },
    {
      "cell_type": "code",
      "source": [
        "channel.ct = pd.to_datetime(channel.ct)\n",
        "taget =channel[channel.ct >= pd.to_datetime('2021-10-03')].sort_values(['ct','channelname']).drop_duplicates('channelname')\n",
        "count_2 = taget[['ct','channelname', 'subcnt']].reset_index(drop = True)\n",
        "\n",
        "print(count_2)"
      ],
      "metadata": {
        "colab": {
          "base_uri": "https://localhost:8080/"
        },
        "id": "w3mfJ17r9_tp",
        "outputId": "ce24f4bb-e4d2-4f49-d85d-bad4c4e12bef"
      },
      "execution_count": 31,
      "outputs": [
        {
          "output_type": "stream",
          "name": "stdout",
          "text": [
            "                    ct      channelname   subcnt\n",
            "0  2021-10-03 03:01:02           논리왕 전기   922000\n",
            "1  2021-10-03 03:01:02            야전삽짱재   257000\n",
            "2  2021-10-03 03:01:02       츄정ChuJeong   322000\n",
            "3  2021-10-03 03:01:03       김농밀의 농밀한 삶     7520\n",
            "4  2021-10-03 03:01:03      릴펄 Lilpearl    10100\n",
            "5  2021-10-03 03:01:03  와글와글 WagleWagle    55000\n",
            "6  2021-10-03 03:01:03              조나단   215000\n",
            "7  2021-10-03 03:01:03          형사!탐정되다    14900\n",
            "8  2021-10-03 03:01:04    Balming Tiger    54300\n",
            "9  2021-10-03 03:01:04    곽토리 kwak tori   471000\n",
            "10 2021-10-03 03:01:04              꽈뚜룹  1330000\n"
          ]
        }
      ]
    },
    {
      "cell_type": "markdown",
      "source": [
        "각채널의 2021-10-03 03:00:00 ~ 2021-11-01 15:00:00 까지 구독자수 (subcnt) 의 증가량을 구하여라"
      ],
      "metadata": {
        "id": "aZ434njzASTq"
      }
    },
    {
      "cell_type": "code",
      "source": [
        "count_3 = channel[(channel.ct >= pd.to_datetime('2021-10-03 03:00:00')) & (channel.ct <= pd.to_datetime('2021-11-01 15:00:00'))].sort_values(['channelname','subcnt'])\n",
        "# count_4 = count_3['ct', 'channelname', 'subcnt'].reset_index(drop = True)\n",
        "\n",
        "print(count_3)"
      ],
      "metadata": {
        "colab": {
          "base_uri": "https://localhost:8080/"
        },
        "id": "R2FuEdtnASxB",
        "outputId": "a0dd8b9d-59d2-46dc-e720-9725589dca9a"
      },
      "execution_count": 38,
      "outputs": [
        {
          "output_type": "stream",
          "name": "stdout",
          "text": [
            "                     channelid  subcnt  viewcnt  videocnt                  ct  \\\n",
            "1276  UCbBzKnCYcG7E3EIkSTdsawA   54300  7050078        54 2021-10-03 03:01:04   \n",
            "1277  UCbBzKnCYcG7E3EIkSTdsawA   54300  7050078        54 2021-10-03 09:01:04   \n",
            "1278  UCbBzKnCYcG7E3EIkSTdsawA   54300  7095012        54 2021-10-03 15:01:04   \n",
            "1279  UCbBzKnCYcG7E3EIkSTdsawA   54400  7095012        54 2021-10-03 21:01:04   \n",
            "1280  UCbBzKnCYcG7E3EIkSTdsawA   54400  7095012        54 2021-10-04 03:01:04   \n",
            "...                        ...     ...      ...       ...                 ...   \n",
            "887   UCI9W73BWje69k7f1m_I4mbQ   24800   797163        47 2021-10-31 09:01:03   \n",
            "888   UCI9W73BWje69k7f1m_I4mbQ   24900   797163        47 2021-10-31 15:01:02   \n",
            "889   UCI9W73BWje69k7f1m_I4mbQ   25000   797163        47 2021-10-31 21:01:02   \n",
            "890   UCI9W73BWje69k7f1m_I4mbQ   25100   797163        47 2021-11-01 03:01:02   \n",
            "891   UCI9W73BWje69k7f1m_I4mbQ   25200   840670        47 2021-11-01 09:01:03   \n",
            "\n",
            "        channelname  \n",
            "1276  Balming Tiger  \n",
            "1277  Balming Tiger  \n",
            "1278  Balming Tiger  \n",
            "1279  Balming Tiger  \n",
            "1280  Balming Tiger  \n",
            "...             ...  \n",
            "887         형사!탐정되다  \n",
            "888         형사!탐정되다  \n",
            "889         형사!탐정되다  \n",
            "890         형사!탐정되다  \n",
            "891         형사!탐정되다  \n",
            "\n",
            "[1298 rows x 6 columns]\n"
          ]
        }
      ]
    },
    {
      "cell_type": "markdown",
      "source": [
        "각 비디오는 10분 간격으로 구독자수, 좋아요, 싫어요수, 댓글수가 수집된것으로 알려졌다. 공범 EP1의 비디오정보 데이터중 수집간격이 5분 이하, 20분이상인 데이터 구간( 해당 시점 전,후) 의 시각을 모두  출력하라"
      ],
      "metadata": {
        "id": "z6UYusJdC70j"
      }
    },
    {
      "cell_type": "code",
      "source": [],
      "metadata": {
        "id": "tQGCldonC9aJ"
      },
      "execution_count": null,
      "outputs": []
    },
    {
      "cell_type": "markdown",
      "source": [
        "“공범” 컨텐츠의 경우 19:00시에 공개 되는것으로 알려져있다. 공개된 날의 21시의 viewcnt, ct, videoname 으로 구성된 데이터 프레임을 viewcnt를 내림차순으로 정렬하여  출력하라"
      ],
      "metadata": {
        "id": "z6tKtnSRDNQ6"
      }
    },
    {
      "cell_type": "code",
      "source": [],
      "metadata": {
        "id": "JQ9CoZO9DO06"
      },
      "execution_count": null,
      "outputs": []
    },
    {
      "cell_type": "markdown",
      "source": [
        "video 정보의 가장 최근 데이터들에서 각 에피소드의 싫어요/좋아요 비율을 ratio 컬럼으로 만들고 videoname, ratio로 구성된 데이터 프레임을 ratio를 오름차순으로 정렬하라"
      ],
      "metadata": {
        "id": "aB-RYCISEEjK"
      }
    },
    {
      "cell_type": "code",
      "source": [
        "answer = video.drop_duplicates('videoname',keep = 'last').sort_values('ct')\n",
        "answer['ratio'] = answer['dislikecnt']/ answer['likecnt']\n",
        "\n",
        "taget = answer.sort_values('ratio')[['videoname', 'ratio']].reset_index(drop = True)\n",
        "\n",
        "print(taget)"
      ],
      "metadata": {
        "colab": {
          "base_uri": "https://localhost:8080/"
        },
        "id": "ScD7uqkMEF6j",
        "outputId": "e532b709-9a0b-4e86-811e-2abeee862530"
      },
      "execution_count": 41,
      "outputs": [
        {
          "output_type": "stream",
          "name": "stdout",
          "text": [
            "  videoname     ratio\n",
            "0    공범 EP7  0.013636\n",
            "1    공범 EP6  0.015881\n",
            "2    공범 EP4  0.017971\n",
            "3    공범 EP5  0.021128\n",
            "4    공범 EP3  0.022360\n",
            "5    공범 EP1  0.027118\n",
            "6    공범 EP2  0.029844\n",
            "7    공범 EP8  0.141357\n"
          ]
        }
      ]
    }
  ]
}