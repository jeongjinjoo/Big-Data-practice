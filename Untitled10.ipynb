{
  "nbformat": 4,
  "nbformat_minor": 0,
  "metadata": {
    "colab": {
      "provenance": [],
      "authorship_tag": "ABX9TyPgI4TxJt0jW73Lk5wLz3c+",
      "include_colab_link": true
    },
    "kernelspec": {
      "name": "python3",
      "display_name": "Python 3"
    },
    "language_info": {
      "name": "python"
    }
  },
  "cells": [
    {
      "cell_type": "markdown",
      "metadata": {
        "id": "view-in-github",
        "colab_type": "text"
      },
      "source": [
        "<a href=\"https://colab.research.google.com/github/jeongjinjoo/Big-Data-practice/blob/main/Untitled10.ipynb\" target=\"_parent\"><img src=\"https://colab.research.google.com/assets/colab-badge.svg\" alt=\"Open In Colab\"/></a>"
      ]
    },
    {
      "cell_type": "code",
      "execution_count": 1,
      "metadata": {
        "colab": {
          "base_uri": "https://localhost:8080/"
        },
        "id": "AAhmOlM2AJeZ",
        "outputId": "ff169277-590d-4267-9f8e-6411dce3dea6"
      },
      "outputs": [
        {
          "output_type": "stream",
          "name": "stdout",
          "text": [
            "Cloning into 'yemoonsaBigdata'...\n",
            "remote: Enumerating objects: 709, done.\u001b[K\n",
            "remote: Counting objects: 100% (346/346), done.\u001b[K\n",
            "remote: Compressing objects: 100% (231/231), done.\u001b[K\n",
            "remote: Total 709 (delta 156), reused 237 (delta 115), pack-reused 363\u001b[K\n",
            "Receiving objects: 100% (709/709), 11.46 MiB | 7.97 MiB/s, done.\n",
            "Resolving deltas: 100% (341/341), done.\n"
          ]
        }
      ],
      "source": [
        "!git clone https://github.com/AnalyticsKnight/yemoonsaBigdata/"
      ]
    },
    {
      "cell_type": "code",
      "source": [
        "import pandas as pd\n",
        "data = pd.read_csv(\"./yemoonsaBigdata/datasets/Part2/iris.csv\")"
      ],
      "metadata": {
        "id": "4AZEKyc9Acvj"
      },
      "execution_count": 3,
      "outputs": []
    },
    {
      "cell_type": "code",
      "source": [
        "print(data.groupby('species')['petal_width'].quantile([0.75]))"
      ],
      "metadata": {
        "colab": {
          "base_uri": "https://localhost:8080/"
        },
        "id": "hxDF6eJJBrAj",
        "outputId": "69bf863a-66fa-4de5-833b-1bdaac1ca0f2"
      },
      "execution_count": 7,
      "outputs": [
        {
          "output_type": "stream",
          "name": "stdout",
          "text": [
            "species         \n",
            "setosa      0.75    0.3\n",
            "versicolor  0.75    1.5\n",
            "virginica   0.75    2.3\n",
            "Name: petal_width, dtype: float64\n"
          ]
        }
      ]
    },
    {
      "cell_type": "code",
      "source": [
        "list = data['sepal_length'].unique().tolist()\n",
        "list.sort()\n",
        "print(list[9])"
      ],
      "metadata": {
        "colab": {
          "base_uri": "https://localhost:8080/"
        },
        "id": "HkdusMcUDQlk",
        "outputId": "b68f03cf-5b94-4ff0-cada-51e749531dec"
      },
      "execution_count": 10,
      "outputs": [
        {
          "output_type": "stream",
          "name": "stdout",
          "text": [
            "5.2\n"
          ]
        }
      ]
    },
    {
      "cell_type": "code",
      "source": [
        "sorted_data = data.sort_values(by = 'sepal_width', ascending = False).reset_index(drop = True)\n",
        "\n",
        "# sort_values(by = 'A') - A의 값에 따라 정렬\n",
        "# reset_index - 인덱스 초기화 or 인덱스를 데이터프레임 열로 변환\n",
        "\n",
        "sorted_data_split = sorted_data.loc[0 : 99] # sorted_data. head(100)\n",
        "print(int(sorted_data_split['sepal_width'].std()*50))"
      ],
      "metadata": {
        "colab": {
          "base_uri": "https://localhost:8080/"
        },
        "id": "d9Ax0cmdEdec",
        "outputId": "f423b09a-366f-4c93-8774-205969a6c0ea"
      },
      "execution_count": 11,
      "outputs": [
        {
          "output_type": "stream",
          "name": "stdout",
          "text": [
            "16\n"
          ]
        }
      ]
    },
    {
      "cell_type": "code",
      "source": [
        "avg_data = data.sort_values(by = ['species', 'petal_length'], ascending = [True, False])\n",
        "# True와 False를 둘다 썼다면 A는 오름차순, B는 내림차순으로 정렬하라는 뜻\n",
        "avg_data_split = avg_data.groupby('species').head(10)\n",
        "print(round(avg_data_split.groupby('species')['petal_length'].mean().sum()))"
      ],
      "metadata": {
        "colab": {
          "base_uri": "https://localhost:8080/"
        },
        "id": "f-U-Y0-fIty2",
        "outputId": "fc33fa65-8146-4865-faae-05d213454315"
      },
      "execution_count": 17,
      "outputs": [
        {
          "output_type": "stream",
          "name": "stdout",
          "text": [
            "13\n"
          ]
        }
      ]
    },
    {
      "cell_type": "code",
      "source": [
        "mean = data['sepal_length'].mean()\n",
        "std = data['sepal_length'].std()\n",
        "\n",
        "upper = mean + 2*std\n",
        "lower = mean - 2*std\n",
        "\n",
        "\n",
        "print(upper, lower)\n",
        "print(data[(data['sepal_length'] >= upper) | (data['sepal_length'] <= lower)])"
      ],
      "metadata": {
        "colab": {
          "base_uri": "https://localhost:8080/"
        },
        "id": "WRROEJsNKstn",
        "outputId": "bfae47d6-9507-4a53-8005-edf791664010"
      },
      "execution_count": 20,
      "outputs": [
        {
          "output_type": "stream",
          "name": "stdout",
          "text": [
            "7.49946558928906 4.187201077377607\n",
            "     sepal_length  sepal_width  petal_length  petal_width    species\n",
            "105           7.6          3.0           6.6          2.1  virginica\n",
            "117           7.7          3.8           6.7          2.2  virginica\n",
            "118           7.7          2.6           6.9          2.3  virginica\n",
            "122           7.7          2.8           6.7          2.0  virginica\n",
            "131           7.9          3.8           6.4          2.0  virginica\n",
            "135           7.7          3.0           6.1          2.3  virginica\n"
          ]
        }
      ]
    },
    {
      "cell_type": "code",
      "source": [
        "import pandas as pd\n",
        "\n",
        "data = pd.read_csv(\"./yemoonsaBigdata/datasets/Part2/wine.csv\")"
      ],
      "metadata": {
        "id": "4R7RDrzzMRTW"
      },
      "execution_count": 22,
      "outputs": []
    },
    {
      "cell_type": "code",
      "source": [
        "data_drop = data[data['total_phenols'].notnull()]\n",
        "# null이 아닌 total_phenols값을 구해\n",
        "\n",
        "med = data_drop['alcalinity_of_ash'].median()\n",
        "# alcalinity_of_ash의 중앙값을 구해\n",
        "\n",
        "data_drop.loc[data_drop['alcalinity_of_ash'].isnull(), 'alcalinity_of_ash'] = med\n",
        "# alcalinity의 널값을 삭제한 행의 alcalinity를 중앙값으로대체\n",
        "\n",
        "print(round(data_drop['alcalinity_of_ash'].mean()))\n",
        "#alcalinity의 평균값 구하기(반올림)"
      ],
      "metadata": {
        "colab": {
          "base_uri": "https://localhost:8080/"
        },
        "id": "UlMgmrLFMgU3",
        "outputId": "8b49efc5-a0a1-48e3-c3a7-31a1aabb32c4"
      },
      "execution_count": 27,
      "outputs": [
        {
          "output_type": "stream",
          "name": "stdout",
          "text": [
            "19\n"
          ]
        }
      ]
    },
    {
      "cell_type": "code",
      "source": [
        "data_final = data[(data['alcohol'] >= data['alcohol'].mean()) & (data['color_intensity'] >= data['color_intensity'].mean())]\n",
        "print(data_final['class'].value_counts())\n",
        "# print(data_filltered['class'].value_counts())"
      ],
      "metadata": {
        "colab": {
          "base_uri": "https://localhost:8080/"
        },
        "id": "z9yg8UetWT_E",
        "outputId": "9d1bbca7-21e0-451a-b65f-e8b84f8364dd"
      },
      "execution_count": 33,
      "outputs": [
        {
          "output_type": "stream",
          "name": "stdout",
          "text": [
            "class\n",
            "0    37\n",
            "2    23\n",
            "1     1\n",
            "Name: count, dtype: int64\n"
          ]
        }
      ]
    },
    {
      "cell_type": "code",
      "source": [
        "print(data.head(1).T)"
      ],
      "metadata": {
        "colab": {
          "base_uri": "https://localhost:8080/"
        },
        "id": "hAzRjnhtX-nO",
        "outputId": "6fe7d3c5-79d4-4f0c-e19b-a2e5116a1018"
      },
      "execution_count": 35,
      "outputs": [
        {
          "output_type": "stream",
          "name": "stdout",
          "text": [
            "                                    0\n",
            "alcohol                         14.23\n",
            "malic_acid                       1.71\n",
            "ash                              2.43\n",
            "alcalinity_of_ash               15.60\n",
            "magnesium                      127.00\n",
            "total_phenols                    2.80\n",
            "flavanoids                       3.06\n",
            "nonflavanoid_phenols             0.28\n",
            "proanthocyanins                  2.29\n",
            "color_intensity                  5.64\n",
            "hue                              1.04\n",
            "od280/od315_of_diluted_wines     3.92\n",
            "proline                       1065.00\n",
            "class                            0.00\n"
          ]
        }
      ]
    },
    {
      "cell_type": "code",
      "source": [
        "mean_1 = data[data['class'] == 1]['ash'].mean()\n",
        "mean_2 = data.dropna()['ash'].mean()\n",
        "\n",
        "print(round(abs(mean_1 - mean_2),3))"
      ],
      "metadata": {
        "colab": {
          "base_uri": "https://localhost:8080/"
        },
        "id": "wLCCKbq4bQwM",
        "outputId": "cb464e42-d7cd-4470-ef85-970c5ab7fa43"
      },
      "execution_count": 38,
      "outputs": [
        {
          "output_type": "stream",
          "name": "stdout",
          "text": [
            "0.12\n"
          ]
        }
      ]
    },
    {
      "cell_type": "code",
      "source": [
        "sorted_data = data.sort_values(by ='alcohol') # 오름차순\n",
        "sorted_data.loc[0:19, 'alcohol'] = sorted_data.loc[19, 'alcohol']\n",
        "# 0부터 20개의 알코올은 20번째 알코올과 똑같다.\n",
        "print(round(sorted_data[sorted_data['proanthocyanins'] <= 2]['alcohol'].mean(),2))"
      ],
      "metadata": {
        "colab": {
          "base_uri": "https://localhost:8080/"
        },
        "id": "BW_hxD34cL-2",
        "outputId": "4fa2a865-5aec-4143-d9bd-a0a870fe47ab"
      },
      "execution_count": 42,
      "outputs": [
        {
          "output_type": "stream",
          "name": "stdout",
          "text": [
            "12.94\n"
          ]
        }
      ]
    },
    {
      "cell_type": "code",
      "source": [
        "num_1 = data[data['class'] == 1]['proline'].quantile(0.75)\n",
        "num_2 = data[data['class'] == 1]['proline'].quantile(0.25)\n",
        "num_3 = data[data['class'] == 2]['proline'].quantile(0.75)\n",
        "num_4 = data[data['class'] == 2]['proline'].quantile(0.25)\n",
        "result1 =  num_1 - num_2\n",
        "result2 = num_3 - num_4\n",
        "result_f = abs(result1 - result2)\n",
        "\n",
        "print(result_f)\n"
      ],
      "metadata": {
        "colab": {
          "base_uri": "https://localhost:8080/"
        },
        "id": "5LsYjWcIdxOW",
        "outputId": "5559040c-84c5-4bb2-a3ad-17135c99a2b1"
      },
      "execution_count": 50,
      "outputs": [
        {
          "output_type": "stream",
          "name": "stdout",
          "text": [
            "68.5\n"
          ]
        }
      ]
    }
  ]
}