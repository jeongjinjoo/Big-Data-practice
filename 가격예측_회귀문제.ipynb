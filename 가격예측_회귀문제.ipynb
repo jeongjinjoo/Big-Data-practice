{
  "nbformat": 4,
  "nbformat_minor": 0,
  "metadata": {
    "colab": {
      "provenance": [],
      "authorship_tag": "ABX9TyMEQjrGztgTaZ2j4V+haK3L",
      "include_colab_link": true
    },
    "kernelspec": {
      "name": "python3",
      "display_name": "Python 3"
    },
    "language_info": {
      "name": "python"
    }
  },
  "cells": [
    {
      "cell_type": "markdown",
      "metadata": {
        "id": "view-in-github",
        "colab_type": "text"
      },
      "source": [
        "<a href=\"https://colab.research.google.com/github/jeongjinjoo/Big-Data-practice/blob/main/%EA%B0%80%EA%B2%A9%EC%98%88%EC%B8%A1_%ED%9A%8C%EA%B7%80%EB%AC%B8%EC%A0%9C.ipynb\" target=\"_parent\"><img src=\"https://colab.research.google.com/assets/colab-badge.svg\" alt=\"Open In Colab\"/></a>"
      ]
    },
    {
      "cell_type": "code",
      "execution_count": 11,
      "metadata": {
        "colab": {
          "base_uri": "https://localhost:8080/"
        },
        "id": "YwAIChCzhOx_",
        "outputId": "850178d9-3c0a-4ded-e7b3-2843de11313d"
      },
      "outputs": [
        {
          "output_type": "stream",
          "name": "stderr",
          "text": [
            "<ipython-input-11-3db342fbe72a>:6: FutureWarning: A value is trying to be set on a copy of a DataFrame or Series through chained assignment using an inplace method.\n",
            "The behavior will change in pandas 3.0. This inplace method will never work because the intermediate object on which we are setting values always behaves as a copy.\n",
            "\n",
            "For example, when doing 'df[col].method(value, inplace=True)', try using 'df.method({col: value}, inplace=True)' or df[col] = df[col].method(value) instead, to perform the operation inplace on the original object.\n",
            "\n",
            "\n",
            "  df['fuel_type'].fillna(df['fuel_type'].mode()[0], inplace = True)\n",
            "<ipython-input-11-3db342fbe72a>:7: FutureWarning: A value is trying to be set on a copy of a DataFrame or Series through chained assignment using an inplace method.\n",
            "The behavior will change in pandas 3.0. This inplace method will never work because the intermediate object on which we are setting values always behaves as a copy.\n",
            "\n",
            "For example, when doing 'df[col].method(value, inplace=True)', try using 'df.method({col: value}, inplace=True)' or df[col] = df[col].method(value) instead, to perform the operation inplace on the original object.\n",
            "\n",
            "\n",
            "  df['accident'].fillna(df['accident'].mode()[0], inplace = True)\n",
            "<ipython-input-11-3db342fbe72a>:8: FutureWarning: A value is trying to be set on a copy of a DataFrame or Series through chained assignment using an inplace method.\n",
            "The behavior will change in pandas 3.0. This inplace method will never work because the intermediate object on which we are setting values always behaves as a copy.\n",
            "\n",
            "For example, when doing 'df[col].method(value, inplace=True)', try using 'df.method({col: value}, inplace=True)' or df[col] = df[col].method(value) instead, to perform the operation inplace on the original object.\n",
            "\n",
            "\n",
            "  df['clean_title'].fillna(df['clean_title'].mode()[0], inplace = True)\n"
          ]
        },
        {
          "output_type": "stream",
          "name": "stdout",
          "text": [
            "mse :  134843.0339961869\n",
            "rmse :  367.2097956157854\n",
            "            pred\n",
            "0     958.064419\n",
            "1     400.458460\n",
            "2     520.938211\n",
            "3     912.554131\n",
            "4     563.387148\n",
            "..           ...\n",
            "204   712.555543\n",
            "205  1115.178448\n",
            "206   945.577415\n",
            "207  1145.909086\n",
            "208   702.524638\n",
            "\n",
            "[209 rows x 1 columns]\n"
          ]
        }
      ],
      "source": [
        "import pandas as pd\n",
        "\n",
        "df = pd.read_csv('https://raw.githubusercontent.com/JEunJin/BigData_python/refs/heads/master/bigdata_csvfile/used_cars_price_data.csv')\n",
        "# print(df.head())\n",
        "# 결측치 처리 = fuel_type, accident, clean_title\n",
        "df['fuel_type'].fillna(df['fuel_type'].mode()[0], inplace = True)\n",
        "df['accident'].fillna(df['accident'].mode()[0], inplace = True)\n",
        "df['clean_title'].fillna(df['clean_title'].mode()[0], inplace = True)\n",
        "\n",
        "# 라벨인코딩 = brand, model, milage, fuel_type, engine, transmission, ext_col, int_col,accident, clean_title, price\n",
        "from sklearn.preprocessing import LabelEncoder\n",
        "le = LabelEncoder()\n",
        "df['brand'] = le.fit_transform(df['brand'])\n",
        "df['model'] = le.fit_transform(df['model'])\n",
        "df['milage'] = le.fit_transform(df['milage'])\n",
        "df['fuel_type'] = le.fit_transform(df['fuel_type'])\n",
        "df['engine'] = le.fit_transform(df['engine'])\n",
        "df['transmission'] = le.fit_transform(df['transmission'])\n",
        "df['ext_col'] = le.fit_transform(df['ext_col'])\n",
        "df['int_col'] = le.fit_transform(df['int_col'])\n",
        "df['accident'] = le.fit_transform(df['accident'])\n",
        "df['clean_title'] = le.fit_transform(df['clean_title'])\n",
        "df['price'] = le.fit_transform(df['price'])\n",
        "# print(df.info())\n",
        "\n",
        "# train 3800, test 209\n",
        "train = df.iloc[:3800, :]\n",
        "test = df.iloc[-209 : , :]\n",
        "\n",
        "# 데이터 분할\n",
        "from sklearn.model_selection import train_test_split\n",
        "\n",
        "X = train.drop(columns = 'price')\n",
        "y = train['price']\n",
        "\n",
        "X_train, X_test, y_train, y_test = train_test_split(X, y, test_size = 0.33, random_state = 10)\n",
        "\n",
        "# 모델링 및 학습\n",
        "from sklearn.ensemble import RandomForestRegressor\n",
        "\n",
        "rfr = RandomForestRegressor(n_estimators = 120, max_depth = 15, random_state = 10)\n",
        "rfr.fit(X_train, y_train)\n",
        "pred1 = rfr.predict(X_test)\n",
        "\n",
        "# 성능 평가\n",
        "from sklearn.metrics import  mean_squared_error\n",
        "import numpy as np\n",
        "\n",
        "mse = mean_squared_error(y_test, pred1)\n",
        "print('mse : ', mse)\n",
        "\n",
        "rmse = np.sqrt(mse)\n",
        "print('rmse : ', rmse)\n",
        "\n",
        "test_X = test.drop(columns = 'price')\n",
        "pred2 = rfr.predict(test_X)\n",
        "\n",
        "pd.DataFrame({'pred' : pred2}).to_csv('result.csv', index = False)\n",
        "result = pd.read_csv('result.csv')\n",
        "print(result)\n"
      ]
    }
  ]
}