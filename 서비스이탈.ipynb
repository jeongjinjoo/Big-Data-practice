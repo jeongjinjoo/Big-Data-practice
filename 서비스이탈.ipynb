{
  "nbformat": 4,
  "nbformat_minor": 0,
  "metadata": {
    "colab": {
      "provenance": [],
      "authorship_tag": "ABX9TyPpFY1Swd8UEKZmGG5TEUij",
      "include_colab_link": true
    },
    "kernelspec": {
      "name": "python3",
      "display_name": "Python 3"
    },
    "language_info": {
      "name": "python"
    }
  },
  "cells": [
    {
      "cell_type": "markdown",
      "metadata": {
        "id": "view-in-github",
        "colab_type": "text"
      },
      "source": [
        "<a href=\"https://colab.research.google.com/github/jeongjinjoo/Big-Data-practice/blob/main/%EC%84%9C%EB%B9%84%EC%8A%A4%EC%9D%B4%ED%83%88.ipynb\" target=\"_parent\"><img src=\"https://colab.research.google.com/assets/colab-badge.svg\" alt=\"Open In Colab\"/></a>"
      ]
    },
    {
      "cell_type": "markdown",
      "source": [
        "본인만의 코드를 작성하고 upvote를 받아 broze medal을 획득 해보세요"
      ],
      "metadata": {
        "id": "i-ydtGjEMop_"
      }
    },
    {
      "cell_type": "code",
      "execution_count": 2,
      "metadata": {
        "colab": {
          "base_uri": "https://localhost:8080/"
        },
        "id": "bvcvgSwsL5EA",
        "outputId": "926034a3-01ae-482a-915a-4b3f2451c258"
      },
      "outputs": [
        {
          "output_type": "stream",
          "name": "stdout",
          "text": [
            "accuracy 1.0\n",
            "validation accuracy :  0.8564102564102564\n",
            "\n",
            "\n",
            "f1_score 1.0\n",
            "validation accuracy :  0.5661971830985916\n",
            "\n",
            "\n",
            "recall_score 1.0\n",
            "validation accuracy :  0.45067264573991034\n",
            "\n",
            "\n",
            "precision_score 1.0\n",
            "validation accuracy :  0.7613636363636364\n",
            "\n",
            "\n",
            "auc 1.0\n",
            "validation accuracy :  0.8474722667250848\n"
          ]
        }
      ],
      "source": [
        "import pandas as pd\n",
        "#데이터 로드\n",
        "x_train = pd.read_csv(\"https://raw.githubusercontent.com/Datamanim/datarepo/main/churnk/X_train.csv\")\n",
        "y_train = pd.read_csv(\"https://raw.githubusercontent.com/Datamanim/datarepo/main/churnk/y_train.csv\")\n",
        "x_test= pd.read_csv(\"https://raw.githubusercontent.com/Datamanim/datarepo/main/churnk/X_test.csv\")\n",
        "\n",
        "# display(x_train)\n",
        "# display(y_train)\n",
        "\n",
        "# print(x_train.info()) // 범주형변수 : Surname, Geography, Gender\n",
        "# print(y_train.info())\n",
        "# print(x_train.nunique())\n",
        "\n",
        "x_train_drop = x_train.drop(columns =['CustomerId', 'Surname'])\n",
        "x_test_drop = x_test.drop(columns =['CustomerId', 'Surname'])\n",
        "\n",
        "# import sklearn\n",
        "# print(sklearn.__all__).\n",
        "from sklearn.model_selection import train_test_split\n",
        "from sklearn.ensemble import RandomForestClassifier\n",
        "\n",
        "x_train_dummies = pd.get_dummies(x_train_drop) # 범주형 변수를 더미 변수로 변환\n",
        "y = y_train['Exited'] # 종속변수 넣어주기\n",
        "\n",
        "x_test_dummies = pd.get_dummies(x_test_drop)\n",
        "# display(x_test_dummies)\n",
        "x_test_dummies = x_test_dummies[x_train_dummies.columns]\n",
        "# display(x_test_dummies)\n",
        "# print(help(train_test_split))\n",
        "\n",
        "X_train, X_val, Y_train, Y_val = train_test_split(x_train_dummies, y, test_size = 0.33)\n",
        "rfc = RandomForestClassifier(random_state = 23)\n",
        "rfc.fit(X_train, Y_train)\n",
        "\n",
        "from sklearn.metrics import roc_auc_score, accuracy_score, f1_score, recall_score, precision_score\n",
        "\n",
        "\n",
        "predict_train_label = rfc.predict(X_train)\n",
        "predict_train_proba = rfc.predict_proba(X_train)[ :,1] # X_validation 예측 확률 계산\n",
        "# proba는 클래스 0과 클래스 1에 대한 예측 확률을 반환\n",
        "#[:,1]은 예측 확률에서 두번째 열을 선택, 보통 클래스 1에 대한 예측 확률 의미\n",
        "\n",
        "predict_validation_label = rfc.predict(X_val)\n",
        "predict_validation_prob = rfc.predict_proba(X_val)[:,1]\n",
        "\n",
        "print('accuracy', accuracy_score(Y_train, predict_train_label))\n",
        "print('validation accuracy : ', accuracy_score(Y_val, predict_validation_label))\n",
        "print('\\n')\n",
        "print('f1_score', f1_score(Y_train, predict_train_label))\n",
        "print('validation accuracy : ', f1_score(Y_val, predict_validation_label))\n",
        "print('\\n')\n",
        "print('recall_score', recall_score(Y_train, predict_train_label))\n",
        "print('validation accuracy : ', recall_score(Y_val, predict_validation_label))\n",
        "print('\\n')\n",
        "print('precision_score', precision_score(Y_train, predict_train_label))\n",
        "print('validation accuracy : ', precision_score(Y_val, predict_validation_label))\n",
        "print('\\n')\n",
        "print('auc', roc_auc_score(Y_train, predict_train_proba))\n",
        "print('validation accuracy : ', roc_auc_score(Y_val, predict_validation_prob))\n",
        "\n",
        "\n",
        "predict_test_label = rfc.predict(x_test_dummies)\n",
        "predict_test_proba = rfc.predict_proba(x_test_dummies)[:,1]\n",
        "\n",
        "\n"
      ]
    }
  ]
}