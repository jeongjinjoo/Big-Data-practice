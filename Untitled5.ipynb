{
  "nbformat": 4,
  "nbformat_minor": 0,
  "metadata": {
    "colab": {
      "provenance": [],
      "authorship_tag": "ABX9TyPGqS1T64bi5nxJcJioKhQI",
      "include_colab_link": true
    },
    "kernelspec": {
      "name": "python3",
      "display_name": "Python 3"
    },
    "language_info": {
      "name": "python"
    }
  },
  "cells": [
    {
      "cell_type": "markdown",
      "metadata": {
        "id": "view-in-github",
        "colab_type": "text"
      },
      "source": [
        "<a href=\"https://colab.research.google.com/github/jeongjinjoo/test1/blob/main/Untitled5.ipynb\" target=\"_parent\"><img src=\"https://colab.research.google.com/assets/colab-badge.svg\" alt=\"Open In Colab\"/></a>"
      ]
    },
    {
      "cell_type": "code",
      "execution_count": null,
      "metadata": {
        "colab": {
          "base_uri": "https://localhost:8080/"
        },
        "id": "cjj5jBxXdRyx",
        "outputId": "396a85d6-a76e-43f4-c3e2-f296982ccf36"
      },
      "outputs": [
        {
          "output_type": "stream",
          "name": "stdout",
          "text": [
            "Hello world!\n"
          ]
        }
      ],
      "source": [
        "# prompt: #simple\n",
        "\n",
        "print(\"Hello world!\")\n"
      ]
    },
    {
      "cell_type": "code",
      "source": [],
      "metadata": {
        "id": "M7qc20rYGWMW"
      },
      "execution_count": null,
      "outputs": []
    },
    {
      "cell_type": "code",
      "source": [
        "#simple\n",
        "test = 2*3\n",
        "test\n"
      ],
      "metadata": {
        "colab": {
          "base_uri": "https://localhost:8080/"
        },
        "id": "PcKD5CXiduBN",
        "outputId": "9419913b-b8f4-4684-f205-30e0aefcd446"
      },
      "execution_count": null,
      "outputs": [
        {
          "output_type": "execute_result",
          "data": {
            "text/plain": [
              "6"
            ]
          },
          "metadata": {},
          "execution_count": 6
        }
      ]
    },
    {
      "cell_type": "markdown",
      "source": [
        "# 대분류"
      ],
      "metadata": {
        "id": "8DiiIJ7ud6rr"
      }
    },
    {
      "cell_type": "markdown",
      "source": [
        "#### (1) 첫번째 프로그램\n"
      ],
      "metadata": {
        "id": "r614s-Y6eO0t"
      }
    },
    {
      "cell_type": "code",
      "source": [
        "#sample\n",
        "test = 2*3\n",
        "test"
      ],
      "metadata": {
        "colab": {
          "base_uri": "https://localhost:8080/"
        },
        "id": "qagFf3gpeUSj",
        "outputId": "d12114ba-75cf-4818-b7f9-1bc14d5ae213"
      },
      "execution_count": null,
      "outputs": [
        {
          "output_type": "execute_result",
          "data": {
            "text/plain": [
              "6"
            ]
          },
          "metadata": {},
          "execution_count": 7
        }
      ]
    },
    {
      "cell_type": "code",
      "source": [
        "#소스 및 데이터 동기화\n",
        "!git clone https://github.com/AnalyticsKnight/yemoonsaBigdata/"
      ],
      "metadata": {
        "colab": {
          "base_uri": "https://localhost:8080/"
        },
        "id": "zcxmtHXGewsz",
        "outputId": "459c83fb-37bc-4213-ea45-0ad98541a40f"
      },
      "execution_count": null,
      "outputs": [
        {
          "output_type": "stream",
          "name": "stdout",
          "text": [
            "Cloning into 'yemoonsaBigdata'...\n",
            "remote: Enumerating objects: 709, done.\u001b[K\n",
            "remote: Counting objects: 100% (346/346), done.\u001b[K\n",
            "remote: Compressing objects: 100% (231/231), done.\u001b[K\n",
            "remote: Total 709 (delta 156), reused 237 (delta 115), pack-reused 363\u001b[K\n",
            "Receiving objects: 100% (709/709), 11.46 MiB | 19.82 MiB/s, done.\n",
            "Resolving deltas: 100% (341/341), done.\n"
          ]
        }
      ]
    },
    {
      "cell_type": "code",
      "source": [
        "a=1234\n",
        "b=-12.34\n",
        "c=a+b\n",
        "\n",
        "print(a,b)\n",
        "print(type(a), type(b))\n",
        "print(c)\n",
        "print(type(c))"
      ],
      "metadata": {
        "id": "yAIm_M6CfEGL",
        "colab": {
          "base_uri": "https://localhost:8080/"
        },
        "outputId": "65facb47-7c96-4de1-bf60-b3ce94cc1d5e"
      },
      "execution_count": null,
      "outputs": [
        {
          "output_type": "stream",
          "name": "stdout",
          "text": [
            "1234 -12.34\n",
            "<class 'int'> <class 'float'>\n",
            "1221.66\n",
            "<class 'float'>\n"
          ]
        }
      ]
    },
    {
      "cell_type": "code",
      "source": [
        "a=3\n",
        "b=7\n",
        "\n",
        "print(a+b)\n",
        "print(a-b)\n",
        "print(a*b)\n",
        "print(a/b)\n",
        "print(a%b)\n",
        "print(a//b)"
      ],
      "metadata": {
        "colab": {
          "base_uri": "https://localhost:8080/"
        },
        "id": "HShNPrMcfzBO",
        "outputId": "8f4f955f-a6ed-47e8-e6f4-c7b97ee11fe0"
      },
      "execution_count": null,
      "outputs": [
        {
          "output_type": "stream",
          "name": "stdout",
          "text": [
            "10\n",
            "-4\n",
            "21\n",
            "0.42857142857142855\n",
            "3\n",
            "0\n"
          ]
        }
      ]
    },
    {
      "cell_type": "code",
      "source": [
        "a= \"jinjoo is pretty\"\n",
        "b = len(a)\n",
        "\n",
        "print(b)"
      ],
      "metadata": {
        "colab": {
          "base_uri": "https://localhost:8080/"
        },
        "id": "ta9cWVHagXSV",
        "outputId": "e8c932df-b38e-4775-ae4c-776cf8124914"
      },
      "execution_count": null,
      "outputs": [
        {
          "output_type": "stream",
          "name": "stdout",
          "text": [
            "16\n"
          ]
        }
      ]
    },
    {
      "cell_type": "markdown",
      "source": [
        "문자열 인덱싱(0부터 시작,공백도 셈, -가 붙으면 오른쪽부터 시작, 오른쪽은 1부터 시작)"
      ],
      "metadata": {
        "id": "T6WvW6AJg87s"
      }
    },
    {
      "cell_type": "code",
      "source": [
        "a= \"Life is short, Python is valuable\"\n",
        "b= a[0]\n",
        "c=a[10]\n",
        "d=a[-8]\n",
        "e=a[-1]\n",
        "\n",
        "print(b+c+d+e)"
      ],
      "metadata": {
        "colab": {
          "base_uri": "https://localhost:8080/"
        },
        "id": "uJvBAKkrgrNy",
        "outputId": "6f43e97a-52b1-413d-9db6-a88a705ceb14"
      },
      "execution_count": null,
      "outputs": [
        {
          "output_type": "stream",
          "name": "stdout",
          "text": [
            "Love\n"
          ]
        }
      ]
    },
    {
      "cell_type": "markdown",
      "source": [
        "문자열 슬라이싱(1부터 시작)\n",
        "ex)[4:8]의 경우 4567을 가져옴."
      ],
      "metadata": {
        "id": "3YEZsunkh1Zj"
      }
    },
    {
      "cell_type": "code",
      "source": [
        "a = \"Life is short, Python is valuable\"\n",
        "b = a[:4]\n",
        "c = a[4:8]\n",
        "d = a[25:]\n",
        "\n",
        "print(b + c + d)"
      ],
      "metadata": {
        "colab": {
          "base_uri": "https://localhost:8080/"
        },
        "id": "P8oleWmdhYt0",
        "outputId": "eec4cb44-9813-418b-eeac-e527c3361528"
      },
      "execution_count": null,
      "outputs": [
        {
          "output_type": "stream",
          "name": "stdout",
          "text": [
            "Life is valuable\n"
          ]
        }
      ]
    },
    {
      "cell_type": "markdown",
      "source": [
        "문자열 삽입"
      ],
      "metadata": {
        "id": "Vyb3B_3hiKBj"
      }
    },
    {
      "cell_type": "code",
      "source": [
        "a = \"apple\"\n",
        "b = ','.join(a)\n",
        "\n",
        "print(b)"
      ],
      "metadata": {
        "colab": {
          "base_uri": "https://localhost:8080/"
        },
        "id": "aCII63o1iMiT",
        "outputId": "8f47eb57-ba48-458a-a35a-bb5a8ba3d06f"
      },
      "execution_count": null,
      "outputs": [
        {
          "output_type": "stream",
          "name": "stdout",
          "text": [
            "a,p,p,l,e\n"
          ]
        }
      ]
    },
    {
      "cell_type": "markdown",
      "source": [
        "공백 지우기"
      ],
      "metadata": {
        "id": "6RoUXYeRia7k"
      }
    },
    {
      "cell_type": "code",
      "source": [
        "a = \" apple \"\n",
        "b = a.lstrip()\n",
        "c = a.rstrip()\n",
        "d = a.strip()\n",
        "\n",
        "print(b)\n",
        "print(c)\n",
        "print(d)"
      ],
      "metadata": {
        "colab": {
          "base_uri": "https://localhost:8080/"
        },
        "id": "IDQNhMnWidS1",
        "outputId": "12adf24a-ec3a-4986-be78-c22523e36e56"
      },
      "execution_count": null,
      "outputs": [
        {
          "output_type": "stream",
          "name": "stdout",
          "text": [
            "apple \n",
            " apple\n",
            "apple\n"
          ]
        }
      ]
    },
    {
      "cell_type": "markdown",
      "source": [
        "list 기본 연산 (*로 곱해도 두 번 반복)"
      ],
      "metadata": {
        "id": "4BbhxxSmjF4D"
      }
    },
    {
      "cell_type": "code",
      "source": [
        "a = [1, 2, 3, 4, 5]\n",
        "b = ['a', 'b', 'c']\n",
        "c = a * 2\n",
        "d = len(c)\n",
        "\n",
        "print(c)\n",
        "print(d)"
      ],
      "metadata": {
        "colab": {
          "base_uri": "https://localhost:8080/"
        },
        "id": "Q3k_btUzjJIa",
        "outputId": "75d9b6d4-130f-4bc5-8177-014c17c93444"
      },
      "execution_count": null,
      "outputs": [
        {
          "output_type": "stream",
          "name": "stdout",
          "text": [
            "[1, 2, 3, 4, 5, 1, 2, 3, 4, 5]\n",
            "10\n"
          ]
        }
      ]
    },
    {
      "cell_type": "markdown",
      "source": [
        "list 인덱싱과 슬라이싱"
      ],
      "metadata": {
        "id": "BMGZIaoGjd5-"
      }
    },
    {
      "cell_type": "code",
      "source": [
        "a = [1, 2, 3, 4, 5]\n",
        "\n",
        "print(a)\n",
        "print(a[0])\n",
        "print(a[1:4])\n",
        "print(a[-1])\n",
        "print(a[4])\n",
        "print(a[2:])\n",
        "print(a[2:5])\n",
        "print(a[:3])\n",
        "print(a[0:3])"
      ],
      "metadata": {
        "colab": {
          "base_uri": "https://localhost:8080/"
        },
        "id": "hAmB839Bjmzk",
        "outputId": "70933387-9096-4346-9e32-a374528e0afb"
      },
      "execution_count": null,
      "outputs": [
        {
          "output_type": "stream",
          "name": "stdout",
          "text": [
            "[1, 2, 3, 4, 5]\n",
            "1\n",
            "[2, 3, 4]\n",
            "5\n",
            "5\n",
            "[3, 4, 5]\n",
            "[3, 4, 5]\n",
            "[1, 2, 3]\n",
            "[1, 2, 3]\n"
          ]
        }
      ]
    },
    {
      "cell_type": "code",
      "source": [
        "a = [1, 2, 3, 4, 5]\n",
        "a[2] = 10\n",
        "del a[4]\n",
        "a.append(10)\n",
        "a.sort()\n",
        "a.insert(1,15)\n",
        "a.remove(10) #하나만 없어짐\n",
        "b = a.pop(1)\n",
        "\n",
        "print(a)\n",
        "print(b)"
      ],
      "metadata": {
        "colab": {
          "base_uri": "https://localhost:8080/"
        },
        "id": "dS5kpwcHlDh4",
        "outputId": "251c4195-870a-4295-8b26-dc18e9d21911"
      },
      "execution_count": null,
      "outputs": [
        {
          "output_type": "stream",
          "name": "stdout",
          "text": [
            "[1, 2, 4, 10]\n",
            "15\n"
          ]
        }
      ]
    },
    {
      "cell_type": "markdown",
      "source": [
        "Tuple (튜플)\n",
        ": 리스트와 비슷한 역할을 하며, 대괄호가 아닌 소괄호를 활용해서 포함한다.\n",
        "다만, 리스트는 요소의 생성, 삭제, 수정이 가능하지만 튜플은 요소를 변경할 수 없다는 차이점이 있다. 일반적으로 괄호를 생략해서 표현한다.\n",
        "* 튜플의 요소 값을 변경하거나 제거하려고 시도하면 오류 메세지가 발생한다.\n",
        "* 값이 항상 변하지 않아야 한다는 제약조건이 필요하면 튜플을 사용하는 것이 바람직하다."
      ],
      "metadata": {
        "id": "d9OkvBiEmI-M"
      }
    },
    {
      "cell_type": "code",
      "source": [
        "a = (1,2,3,4,5)\n",
        "b = ('a','b','c')\n",
        "c = a*2 +b\n",
        "d = len(c)\n",
        "\n",
        "print(c)\n",
        "print(d)"
      ],
      "metadata": {
        "colab": {
          "base_uri": "https://localhost:8080/"
        },
        "id": "k-FtKQGumc2W",
        "outputId": "3836b143-59ba-476f-afe6-3c6e5d7c2f8b"
      },
      "execution_count": null,
      "outputs": [
        {
          "output_type": "stream",
          "name": "stdout",
          "text": [
            "(1, 2, 3, 4, 5, 1, 2, 3, 4, 5, 'a', 'b', 'c')\n",
            "13\n"
          ]
        }
      ]
    },
    {
      "cell_type": "code",
      "source": [
        "a = [5, 4, 3, 2, 1]\n",
        "b = a.index(1)\n",
        "c = a.index(5)\n",
        "\n",
        "print(b)\n",
        "print(c)"
      ],
      "metadata": {
        "colab": {
          "base_uri": "https://localhost:8080/"
        },
        "id": "n0McF4Iurmad",
        "outputId": "86488299-cf39-4515-bde6-063d603b5e8b"
      },
      "execution_count": null,
      "outputs": [
        {
          "output_type": "stream",
          "name": "stdout",
          "text": [
            "4\n",
            "0\n"
          ]
        }
      ]
    },
    {
      "cell_type": "markdown",
      "source": [
        "딕셔너리{중괄호를 사용해서 작성함.}\n",
        "* 딕셔너리 자료형의 구조를 이해하는 것이 중요함."
      ],
      "metadata": {
        "id": "AqMK4tRRsGn-"
      }
    },
    {
      "cell_type": "code",
      "source": [
        "a = {'name':'John', 'age':30, 'birth':[11, 8]}\n",
        "\n",
        "print(a)\n",
        "print(a['name'])\n",
        "print(a['birth'])"
      ],
      "metadata": {
        "colab": {
          "base_uri": "https://localhost:8080/"
        },
        "id": "IQjYtivksIND",
        "outputId": "48c561a1-a5ae-47be-f03c-a7f2acb9ef3b"
      },
      "execution_count": null,
      "outputs": [
        {
          "output_type": "stream",
          "name": "stdout",
          "text": [
            "{'name': 'John', 'age': 30, 'birth': [11, 8]}\n",
            "John\n",
            "[11, 8]\n"
          ]
        }
      ]
    },
    {
      "cell_type": "markdown",
      "source": [
        "딕셔너리 키 리스트 만들기\n",
        "* 딕셔너리의 데이터 구조를 구성하고 있는 key의 리스트를 호출할 수 있다.\n",
        "딕셔너리, key 함수는 키만 불러오게 되며, list 함수를 통해 리스트 자료형으로 변환할 수 있다."
      ],
      "metadata": {
        "id": "rE-k5vu4s20j"
      }
    },
    {
      "cell_type": "code",
      "source": [
        "a = {'name':'John', 'age':30, 'birth':[11, 8]}\n",
        "# 리스트 불러오기\n",
        "b = a.keys()\n",
        "c = list(a.keys())\n",
        "# 값 불러오기\n",
        "d = a.values()\n",
        "e = list(a.values())\n",
        "\n",
        "print(b)\n",
        "print(c)\n",
        "print(d)\n",
        "print(e)"
      ],
      "metadata": {
        "colab": {
          "base_uri": "https://localhost:8080/"
        },
        "id": "pzs_4OPls07E",
        "outputId": "5a73d8ee-040f-4fe8-b464-b75194f479df"
      },
      "execution_count": null,
      "outputs": [
        {
          "output_type": "stream",
          "name": "stdout",
          "text": [
            "dict_keys(['name', 'age', 'birth'])\n",
            "['name', 'age', 'birth']\n",
            "dict_values(['John', 30, [11, 8]])\n",
            "['John', 30, [11, 8]]\n"
          ]
        }
      ]
    },
    {
      "cell_type": "markdown",
      "source": [
        "딕셔너리 키로 값 호출하기 get(x)함수를 활용하면 x의 키에 해당하는 값을 확인할 수 있다.\n",
        "ex) get(x,y) : x의 키가 존재하지 않을 때 y값을 반환한다.\n",
        "+ y가 없을 때는 None을 반환한다."
      ],
      "metadata": {
        "id": "oVs7Ccu8t6kS"
      }
    },
    {
      "cell_type": "code",
      "source": [
        "a = {'name':'John', 'age':30, 'birth':[11, 8]}\n",
        "b = a.get('name')\n",
        "c = a['name']\n",
        "d = a.get('house')\n",
        "e = a.get('house', 'No data')\n",
        "\n",
        "print(b)\n",
        "print(c)\n",
        "print(d)\n",
        "print(e)"
      ],
      "metadata": {
        "colab": {
          "base_uri": "https://localhost:8080/"
        },
        "id": "lSUdvaAntkY1",
        "outputId": "fe6ad47c-2b2e-4749-8cc1-3ad9bc25f843"
      },
      "execution_count": null,
      "outputs": [
        {
          "output_type": "stream",
          "name": "stdout",
          "text": [
            "John\n",
            "John\n",
            "None\n",
            "No data\n"
          ]
        }
      ]
    },
    {
      "cell_type": "markdown",
      "source": [
        "집합 자료형은 중복을 허용하지 않으며 순서가 없다는 특징이 있다.\n",
        "집합 자료형은 중괄호 {}로 표현한다.\n",
        "set함수를 사용해서 만들 수 있다."
      ],
      "metadata": {
        "id": "9srg5Dwfumad"
      }
    },
    {
      "cell_type": "code",
      "source": [
        "a = {1, 2, 3, 2, 1}\n",
        "b = set([1, 2, 3, 2, 1])\n",
        "c = set(\"Python\")\n",
        "\n",
        "print(a)\n",
        "print(b) #중복불가\n",
        "print(c)"
      ],
      "metadata": {
        "colab": {
          "base_uri": "https://localhost:8080/"
        },
        "id": "95dgbCvLuywF",
        "outputId": "171d0754-1a3e-462a-ac20-4d5c6ca2b06c"
      },
      "execution_count": null,
      "outputs": [
        {
          "output_type": "stream",
          "name": "stdout",
          "text": [
            "{1, 2, 3}\n",
            "{1, 2, 3}\n",
            "{'P', 'o', 'n', 't', 'y', 'h'}\n"
          ]
        }
      ]
    },
    {
      "cell_type": "code",
      "source": [
        "a = set([1, 2, 3])\n",
        "b = list(a)\n",
        "c = tuple(a)\n",
        "\n",
        "print(a) # 집합 자료형은 중괄호\n",
        "print(b) # 리스트는 대괄호\n",
        "print(b[0])\n",
        "print(c) # 튜플은 소괄호\n",
        "print(c[2])"
      ],
      "metadata": {
        "colab": {
          "base_uri": "https://localhost:8080/"
        },
        "id": "uJGQERDZvTUt",
        "outputId": "7759d67e-f5cd-49a5-85ac-78d55ba6b3e6"
      },
      "execution_count": null,
      "outputs": [
        {
          "output_type": "stream",
          "name": "stdout",
          "text": [
            "{1, 2, 3}\n",
            "[1, 2, 3]\n",
            "1\n",
            "(1, 2, 3)\n",
            "3\n"
          ]
        }
      ]
    },
    {
      "cell_type": "code",
      "source": [
        "a = set([1, 2, 3, 4, 5])\n",
        "b = set([3, 4, 5, 6, 7])\n",
        "c = a & b # 집합 자료형의 교집합\n",
        "d = a.intersection(b)\n",
        "e = a | b # 집합 자료형의 합집합\n",
        "f = a.union(b)\n",
        "g = a - b # 집합 자료형의 차집합\n",
        "h = a.difference(b)\n",
        "\n",
        "print(c)\n",
        "print(d)\n",
        "print(e)\n",
        "print(f)\n",
        "print(g)\n",
        "print(h)"
      ],
      "metadata": {
        "colab": {
          "base_uri": "https://localhost:8080/"
        },
        "id": "s09DEXdlvsmV",
        "outputId": "b3ac2316-006f-4a45-cd08-ed86b895992f"
      },
      "execution_count": null,
      "outputs": [
        {
          "output_type": "stream",
          "name": "stdout",
          "text": [
            "{3, 4, 5}\n",
            "{3, 4, 5}\n",
            "{1, 2, 3, 4, 5, 6, 7}\n",
            "{1, 2, 3, 4, 5, 6, 7}\n",
            "{1, 2}\n",
            "{1, 2}\n"
          ]
        }
      ]
    },
    {
      "cell_type": "markdown",
      "source": [
        "논리 자료형이란 참과 거짓을 나타내는 자료형이다.\n",
        "\n",
        "bool함수를 사용하면 식별할 수 있다.\n",
        "\n",
        "문자열,리스트, 튜플, 딕셔너리 자료형에서 값이 비어있으면 False값을 반환하고, 비어있지 않으면 True값을 반환한다.\n",
        "\n",
        "숫자형에서는 값이 0일때 False값을 반환하고, 0이 아닐 때는 True값을 반환한다."
      ],
      "metadata": {
        "id": "OCywMekcwK4c"
      }
    },
    {
      "cell_type": "code",
      "source": [
        "a = True\n",
        "b = False\n",
        "\n",
        "print(a)\n",
        "print(type(a))\n",
        "print(b)\n",
        "print(type(b))\n",
        "print(a + b)\n",
        "print(type(a + b))\n",
        "print(a * b)\n",
        "print(type(a * b))"
      ],
      "metadata": {
        "colab": {
          "base_uri": "https://localhost:8080/"
        },
        "id": "jGI0GUK7wtZ1",
        "outputId": "3cc1787f-719a-444d-ad2f-2fa168bdd12c"
      },
      "execution_count": null,
      "outputs": [
        {
          "output_type": "stream",
          "name": "stdout",
          "text": [
            "True\n",
            "<class 'bool'>\n",
            "False\n",
            "<class 'bool'>\n",
            "1\n",
            "<class 'int'>\n",
            "0\n",
            "<class 'int'>\n"
          ]
        }
      ]
    },
    {
      "cell_type": "markdown",
      "source": [
        "제어문\n",
        ": if문, 반복문(while문,for문)\n",
        "* for문은 리스트,튜플,문자열 수만큼 반복문을 수행할 때 활용하며,\n",
        "\n",
        "* while문은 특정 조건을 만족할 때까지 반복문을 수행한다."
      ],
      "metadata": {
        "id": "AytDOZpDw47F"
      }
    },
    {
      "cell_type": "code",
      "source": [
        "a = True\n",
        "\n",
        "if a:\n",
        "    print(\"가설은\")\n",
        "    print(\"사실이다\")\n",
        "else:\n",
        "    print(\"가설은\")\n",
        "    print(\"거짓이다\")"
      ],
      "metadata": {
        "colab": {
          "base_uri": "https://localhost:8080/"
        },
        "id": "yEQY0LO2xgr1",
        "outputId": "af3637fe-976a-40fd-a371-06edfb806aba"
      },
      "execution_count": null,
      "outputs": [
        {
          "output_type": "stream",
          "name": "stdout",
          "text": [
            "가설은\n",
            "사실이다\n"
          ]
        }
      ]
    },
    {
      "cell_type": "code",
      "source": [
        "x = 3\n",
        "y = 7\n",
        "\n",
        "if x <= y:\n",
        "    print(\"x가 y보다 작거나 같다\")\n",
        "else:\n",
        "    print(\"x가 y보다 크다\")"
      ],
      "metadata": {
        "colab": {
          "base_uri": "https://localhost:8080/"
        },
        "id": "6-zaPHahxkXU",
        "outputId": "3bdc287d-6afe-464e-cc64-3a35e6285fe1"
      },
      "execution_count": null,
      "outputs": [
        {
          "output_type": "stream",
          "name": "stdout",
          "text": [
            "x가 y보다 작거나 같다\n"
          ]
        }
      ]
    },
    {
      "cell_type": "code",
      "source": [
        "x = 3\n",
        "y = 7\n",
        "\n",
        "if x == y or x < y:\n",
        "    print(\"x가 y보다 작거나 같다\")\n",
        "else:\n",
        "    print(\"x가 y보다 크다\")"
      ],
      "metadata": {
        "colab": {
          "base_uri": "https://localhost:8080/"
        },
        "id": "Mv33IhWXxq0F",
        "outputId": "4b30b370-a9e6-4419-d183-b83fc228ef70"
      },
      "execution_count": null,
      "outputs": [
        {
          "output_type": "stream",
          "name": "stdout",
          "text": [
            "x가 y보다 작거나 같다\n"
          ]
        }
      ]
    },
    {
      "cell_type": "code",
      "source": [
        "x = 3\n",
        "y = [1, 2, 3, 4, 5]\n",
        "\n",
        "if x in y:\n",
        "    print(\"데이터가 존재한다\")\n",
        "else:\n",
        "    print(\"데이터가 존재하지 않는다\")"
      ],
      "metadata": {
        "colab": {
          "base_uri": "https://localhost:8080/"
        },
        "id": "40pGMDFXxtIE",
        "outputId": "1b5299b2-a0fd-4cb7-e7e1-d464493337ec"
      },
      "execution_count": null,
      "outputs": [
        {
          "output_type": "stream",
          "name": "stdout",
          "text": [
            "데이터가 존재한다\n"
          ]
        }
      ]
    },
    {
      "cell_type": "code",
      "source": [
        "x = 3\n",
        "y = 7\n",
        "\n",
        "if x == y:\n",
        "    print(\"x와 y는 같다\")\n",
        "elif x < y:\n",
        "    print(\"x가 y보다 작다\")\n",
        "else:\n",
        "    print(\"x가 y보다 크다\")"
      ],
      "metadata": {
        "colab": {
          "base_uri": "https://localhost:8080/"
        },
        "id": "KDyiw25axxPG",
        "outputId": "29d1d7c2-6344-46ee-cce2-b11a4d7f2485"
      },
      "execution_count": null,
      "outputs": [
        {
          "output_type": "stream",
          "name": "stdout",
          "text": [
            "x가 y보다 작다\n"
          ]
        }
      ]
    },
    {
      "cell_type": "code",
      "source": [
        "a = 0\n",
        "\n",
        "while a < 5:\n",
        "    print(\"a값은 %s 입니다\" % a)\n",
        "    a = a + 1\n",
        "\n",
        "print(\"while문이 종료되었습니다.a값은 %s 입니다\"% a)"
      ],
      "metadata": {
        "colab": {
          "base_uri": "https://localhost:8080/"
        },
        "id": "Bw-SleAdx0l0",
        "outputId": "394fbb92-4505-4f01-fc0e-4874f1cf2f90"
      },
      "execution_count": null,
      "outputs": [
        {
          "output_type": "stream",
          "name": "stdout",
          "text": [
            "a값은 0 입니다\n",
            "a값은 1 입니다\n",
            "a값은 2 입니다\n",
            "a값은 3 입니다\n",
            "a값은 4 입니다\n",
            "while문이 종료되었습니다.a값은 5 입니다\n"
          ]
        }
      ]
    },
    {
      "cell_type": "code",
      "source": [
        "a = 0\n",
        "b = [\"사과\", \"바나나\", \"토마토\"]\n",
        "\n",
        "while a < len(b):\n",
        "    print(\"바구니에서 %s를 꺼냈습니다\" % b[a])\n",
        "    a = a + 1\n",
        "\n",
        "print(\"바구니에 아무것도 남아있지 않습니다\")"
      ],
      "metadata": {
        "colab": {
          "base_uri": "https://localhost:8080/"
        },
        "id": "HuvhdtGmyG4t",
        "outputId": "8bf52119-08ac-4e16-beba-18ccac1425de"
      },
      "execution_count": null,
      "outputs": [
        {
          "output_type": "stream",
          "name": "stdout",
          "text": [
            "바구니에서 사과를 꺼냈습니다\n",
            "바구니에서 바나나를 꺼냈습니다\n",
            "바구니에서 토마토를 꺼냈습니다\n",
            "바구니에 아무것도 남아있지 않습니다\n"
          ]
        }
      ]
    },
    {
      "cell_type": "code",
      "source": [
        "a = 5\n",
        "\n",
        "while a > 0:\n",
        "    print(\"a값은 %s 입니다\" % a)\n",
        "    a = a - 1\n",
        "\n",
        "    if a == 2:\n",
        "        break\n",
        "\n",
        "print(\"while문이 종료되었습니다\")"
      ],
      "metadata": {
        "colab": {
          "base_uri": "https://localhost:8080/"
        },
        "id": "OlK-RQXkyWbU",
        "outputId": "36883164-8b9b-4c3c-b49c-db20d21e083b"
      },
      "execution_count": null,
      "outputs": [
        {
          "output_type": "stream",
          "name": "stdout",
          "text": [
            "a값은 5 입니다\n",
            "a값은 4 입니다\n",
            "a값은 3 입니다\n",
            "while문이 종료되었습니다\n"
          ]
        }
      ]
    },
    {
      "cell_type": "code",
      "source": [
        "a = 0\n",
        "\n",
        "while a < 10:\n",
        "    a = a + 1\n",
        "    if a % 2 != 0:\n",
        "        continue\n",
        "    print(a)"
      ],
      "metadata": {
        "colab": {
          "base_uri": "https://localhost:8080/"
        },
        "id": "99Nvl5pYyji6",
        "outputId": "5ea690e7-5c94-43ef-a125-2a10918f3946"
      },
      "execution_count": null,
      "outputs": [
        {
          "output_type": "stream",
          "name": "stdout",
          "text": [
            "2\n",
            "4\n",
            "6\n",
            "8\n",
            "10\n"
          ]
        }
      ]
    },
    {
      "cell_type": "code",
      "source": [
        "a = [\"사과\", \"바나나\", \"토마토\"]\n",
        "\n",
        "for i in a:\n",
        "    print(i)"
      ],
      "metadata": {
        "colab": {
          "base_uri": "https://localhost:8080/"
        },
        "id": "EhukEcK7zG7V",
        "outputId": "282c0a32-2236-4e37-d6ce-b4a365fb75d7"
      },
      "execution_count": null,
      "outputs": [
        {
          "output_type": "stream",
          "name": "stdout",
          "text": [
            "사과\n",
            "바나나\n",
            "토마토\n"
          ]
        }
      ]
    },
    {
      "cell_type": "code",
      "source": [
        "a = [90, 25, 67, 45, 80]\n",
        "b = sum(a) / len(a)  # 합계/개수 = 평\n",
        "\n",
        "for i in a:\n",
        "    if i > b:\n",
        "        print(\"%d 는(은) 평균보다 크다\" % i)\n",
        "    else:\n",
        "        print(\"%d 는(은) 평균보다 작거나 같다\" % i)"
      ],
      "metadata": {
        "colab": {
          "base_uri": "https://localhost:8080/"
        },
        "id": "PIAMlhldzMvO",
        "outputId": "2a8dead7-8df7-4536-9956-da77d7dfdbec"
      },
      "execution_count": null,
      "outputs": [
        {
          "output_type": "stream",
          "name": "stdout",
          "text": [
            "90 는(은) 평균보다 크다\n",
            "25 는(은) 평균보다 작거나 같다\n",
            "67 는(은) 평균보다 크다\n",
            "45 는(은) 평균보다 작거나 같다\n",
            "80 는(은) 평균보다 크다\n"
          ]
        }
      ]
    },
    {
      "cell_type": "markdown",
      "source": [
        "range(a,b)함수는 a값을 시작으로 b값이 끝인 범위의 숫자 리스트를 생성한다.\n",
        "마지막 b값은 포함하지 않는다."
      ],
      "metadata": {
        "id": "pJkXhkUoznod"
      }
    },
    {
      "cell_type": "code",
      "source": [
        "# 구구단 출\n",
        "for i in range(2, 10): # 2이상 10미만인 범위\n",
        "    for j in range(1, 10):\n",
        "        print(i * j, end = ' ')\n",
        "    print(' ')"
      ],
      "metadata": {
        "colab": {
          "base_uri": "https://localhost:8080/"
        },
        "id": "iVF2_lLqzhUV",
        "outputId": "4097f38c-9647-48e5-ec02-29502b67544d"
      },
      "execution_count": null,
      "outputs": [
        {
          "output_type": "stream",
          "name": "stdout",
          "text": [
            "2 4 6 8 10 12 14 16 18  \n",
            "3 6 9 12 15 18 21 24 27  \n",
            "4 8 12 16 20 24 28 32 36  \n",
            "5 10 15 20 25 30 35 40 45  \n",
            "6 12 18 24 30 36 42 48 54  \n",
            "7 14 21 28 35 42 49 56 63  \n",
            "8 16 24 32 40 48 56 64 72  \n",
            "9 18 27 36 45 54 63 72 81  \n"
          ]
        }
      ]
    },
    {
      "cell_type": "code",
      "source": [
        "a = [1, 2, 3, 4]\n",
        "result = []\n",
        "\n",
        "for i in a: # for문을 활용하면 리스트에 일정한 규칙을 갖는 데이터를 추가한다.\n",
        "    result.insert(0, i * 10)\n",
        "\n",
        "print(result)"
      ],
      "metadata": {
        "colab": {
          "base_uri": "https://localhost:8080/"
        },
        "id": "GKn79mP80EDO",
        "outputId": "9de01f10-ba9b-4926-93e6-6577a1fceeb2"
      },
      "execution_count": null,
      "outputs": [
        {
          "output_type": "stream",
          "name": "stdout",
          "text": [
            "[40, 30, 20, 10]\n"
          ]
        }
      ]
    },
    {
      "cell_type": "markdown",
      "source": [
        "def문\n",
        ": 함수 이름을 임의로 만들 수 있고 이름 뒤 괄호 안의 매개변수는 이 함수에 입력으로 전달되는 값을 받는 변수이다.\n",
        "\n",
        "* 함수를 정의한 다음 if,while,for문과 마찬가지로 함수에서 수행할 문장을 입력한다.\n",
        "\n",
        "* 마지막으로 return 명령어는 함수의 결괏값을 돌려주는 명령어이다.\n",
        "\n",
        "* 입력값이 없거나 결괏값이 없는 형태로 함수를 만들 수도 있으나, 일반적으로는 매개변수와 return명령어 모두 사용하여 함수 구조를 구성한다."
      ],
      "metadata": {
        "id": "p2WRjaIJ0ZsG"
      }
    },
    {
      "cell_type": "code",
      "source": [
        "def add(a, b):\n",
        "  return a + b\n",
        "\n",
        "a = 3\n",
        "b = 7\n",
        "c = add(a, b)\n",
        "\n",
        "print(c)"
      ],
      "metadata": {
        "colab": {
          "base_uri": "https://localhost:8080/"
        },
        "id": "WPybyzV10Wsf",
        "outputId": "68b7a243-4623-4200-8891-9059057efc70"
      },
      "execution_count": null,
      "outputs": [
        {
          "output_type": "stream",
          "name": "stdout",
          "text": [
            "10\n"
          ]
        }
      ]
    },
    {
      "cell_type": "markdown",
      "source": [
        "NUMPY(Numerical Python)\n",
        ": 파이썬에서 선형대수 기반의 프로그램을 쉽게 만들 수 있도록 지원하는 대표적인 패키지\n",
        "- 루프를 사용하지 않고 대량 데이터의 배열 연산을 가능하게 하므로 빠른 배열 연산 속도를 보장한다.\n"
      ],
      "metadata": {
        "id": "CeZz0joeGYR_"
      }
    },
    {
      "cell_type": "code",
      "source": [
        "import numpy as np"
      ],
      "metadata": {
        "id": "9AUElOaMJZkp"
      },
      "execution_count": 1,
      "outputs": []
    },
    {
      "cell_type": "markdown",
      "source": [
        "numpy의 기반 데이터 타입은 다차원 배열이다. 다차원 배열이란 같은 자료형의 데이터를 담을 수 있는 하나의 그릇이라고 표현할 수 있다.\n",
        "NUMPY의 array함수는 파이썬의 리스트와 같은 다양한 인자를 입력받아서 배열 형태로 변환하는 기능을 수행한다.\n",
        "생성된 배열의 shape변수는 배열의 크기, 즉 행과 열의 정보를 튜플 형태로 가지고 있다."
      ],
      "metadata": {
        "id": "TDKJgRWvJf4-"
      }
    },
    {
      "cell_type": "code",
      "source": [
        "a1 = np.array([1, 2, 3])\n",
        "print(a1)\n",
        "print('array1 type : ', type(a1))\n",
        "print('array1 shape : ', a1.shape) #1차원 배열에 3개의 데이터를 가지고 있음.\n",
        "\n",
        "a2 = np.array([[1, 2, 3], [4, 5, 6]])\n",
        "print(a2)\n",
        "print('array2 type : ', type(a2))\n",
        "print('array2 shape : ', a2.shape) #2차원 배열에 2개의 행과 3개의 컬럼 데이터 구조를 가지고 있음.\n",
        "\n",
        "a3 = np.array([[1, 2, 3]])\n",
        "print(a3)\n",
        "print('array3 type : ', type(a3))\n",
        "print('array3 shape : ', a3.shape) #2차원 배열에 해당하며 1개의 행과 3개의 컬럼으로 구성된 데이터 구조."
      ],
      "metadata": {
        "colab": {
          "base_uri": "https://localhost:8080/"
        },
        "id": "WgIdjfp8JeU_",
        "outputId": "40aff753-ac2d-48f4-94ce-d479e737db02"
      },
      "execution_count": 4,
      "outputs": [
        {
          "output_type": "stream",
          "name": "stdout",
          "text": [
            "[1 2 3]\n",
            "array1 type :  <class 'numpy.ndarray'>\n",
            "array1 shape :  (3,)\n",
            "[[1 2 3]\n",
            " [4 5 6]]\n",
            "array2 type :  <class 'numpy.ndarray'>\n",
            "array2 shape :  (2, 3)\n",
            "[[1 2 3]]\n",
            "array3 type :  <class 'numpy.ndarray'>\n",
            "array3 shape :  (1, 3)\n"
          ]
        }
      ]
    },
    {
      "cell_type": "markdown",
      "source": [
        "각 배열의 차원"
      ],
      "metadata": {
        "id": "55u3Kim2Kmn0"
      }
    },
    {
      "cell_type": "code",
      "source": [
        "print('array1 dim :', a1.ndim)\n",
        "print('array2 dim :', a2.ndim)\n",
        "print('array3 dim :', a3.ndim)"
      ],
      "metadata": {
        "colab": {
          "base_uri": "https://localhost:8080/"
        },
        "id": "iTIixprbKpZo",
        "outputId": "f80129ff-492d-43b5-84c8-2d778a0db8a5"
      },
      "execution_count": 5,
      "outputs": [
        {
          "output_type": "stream",
          "name": "stdout",
          "text": [
            "array1 dim : 1\n",
            "array2 dim : 2\n",
            "array3 dim : 2\n"
          ]
        }
      ]
    },
    {
      "cell_type": "markdown",
      "source": [
        "np.arange(x) 함수를 활용하면 0부터 (x-1)까지의 값을 순차적 배열의 데이터 값으로 생성할 수 있다.\n",
        "* 특정 크기와 차원을 가진 배열을 연속되거나 일정한 규칙을 가진 숫자로 생성해야 할 필요가 있는 경우"
      ],
      "metadata": {
        "id": "Gx0Ny-04Kx14"
      }
    },
    {
      "cell_type": "code",
      "source": [
        "a = np.arange(20)\n",
        "b = np.arange(1, 20, 3)\n",
        "print(a)\n",
        "print(b)"
      ],
      "metadata": {
        "colab": {
          "base_uri": "https://localhost:8080/"
        },
        "id": "33zoThGiLBix",
        "outputId": "4cf214f5-46fc-483f-971c-43bf05bbf3dc"
      },
      "execution_count": 7,
      "outputs": [
        {
          "output_type": "stream",
          "name": "stdout",
          "text": [
            "[ 0  1  2  3  4  5  6  7  8  9 10 11 12 13 14 15 16 17 18 19]\n",
            "[ 1  4  7 10 13 16 19]\n"
          ]
        }
      ]
    },
    {
      "cell_type": "markdown",
      "source": [
        "특정 크기와 차원을 가진 배열을 0 또는 1로 초기화해야 할 필요가 있는 경우가 있다.\n",
        "이 경우 zeros나 ones함수를 이용해 쉽게 배열을 초기화할 수 있다."
      ],
      "metadata": {
        "id": "T1HMbomzLREn"
      }
    },
    {
      "cell_type": "code",
      "source": [
        "zero_a = np.zeros((2,5))\n",
        "one_a = np.ones((3,4))\n",
        "zero_b = np.zeros_like(one_a) #이미 생성된 배열 구조와 동일한 구조를 유지한 상태에서 1을 0으로 만들어줌.\n",
        "one_b = np.ones_like(zero_a) #0을 1의 배열로 만들어줌.\n",
        "\n",
        "\n",
        "print(zero_a)\n",
        "print(one_a)\n",
        "\n",
        "print(zero_b)\n",
        "print(one_b)"
      ],
      "metadata": {
        "colab": {
          "base_uri": "https://localhost:8080/"
        },
        "id": "HvSK3QtbLUtn",
        "outputId": "a56d6110-5b81-4766-b2ca-a3483aff3b5d"
      },
      "execution_count": 11,
      "outputs": [
        {
          "output_type": "stream",
          "name": "stdout",
          "text": [
            "[[0. 0. 0. 0. 0.]\n",
            " [0. 0. 0. 0. 0.]]\n",
            "[[1. 1. 1. 1.]\n",
            " [1. 1. 1. 1.]\n",
            " [1. 1. 1. 1.]]\n",
            "[[0. 0. 0. 0.]\n",
            " [0. 0. 0. 0.]\n",
            " [0. 0. 0. 0.]]\n",
            "[[1. 1. 1. 1. 1.]\n",
            " [1. 1. 1. 1. 1.]]\n"
          ]
        }
      ]
    },
    {
      "cell_type": "code",
      "source": [
        "full_a = np.full((4, 3),9) #9로 채워진 4개의 행과 3개의 열로 된 배열\n",
        "random_a = np.random.random((3, 4)) #랜덤의 숫자로 배열 채우기\n",
        "\n",
        "print(full_a)\n",
        "print(random_a)"
      ],
      "metadata": {
        "colab": {
          "base_uri": "https://localhost:8080/"
        },
        "id": "SUxvwk2hMJgy",
        "outputId": "acbd2816-a326-4c9d-e085-73024211db1c"
      },
      "execution_count": 12,
      "outputs": [
        {
          "output_type": "stream",
          "name": "stdout",
          "text": [
            "[[9 9 9]\n",
            " [9 9 9]\n",
            " [9 9 9]\n",
            " [9 9 9]]\n",
            "[[7.98128333e-01 7.03705751e-01 1.65617030e-01 4.95788273e-01]\n",
            " [4.30510933e-01 8.35966509e-01 8.88969470e-01 7.96713519e-01]\n",
            " [6.93260534e-04 4.42085550e-01 2.56050534e-01 4.94250977e-01]]\n"
          ]
        }
      ]
    },
    {
      "cell_type": "code",
      "source": [
        "eye_a = np.eye(4) #주대각선의 원소가 모두 1이고 나머지는 모두 0인 대각행렬 형태의 배열\n",
        "print(eye_a)"
      ],
      "metadata": {
        "colab": {
          "base_uri": "https://localhost:8080/"
        },
        "id": "UhD_y1S-MdAh",
        "outputId": "856810ef-94ff-4937-9dbd-1a34aa25483e"
      },
      "execution_count": 13,
      "outputs": [
        {
          "output_type": "stream",
          "name": "stdout",
          "text": [
            "[[1. 0. 0. 0.]\n",
            " [0. 1. 0. 0.]\n",
            " [0. 0. 1. 0.]\n",
            " [0. 0. 0. 1.]]\n"
          ]
        }
      ]
    },
    {
      "cell_type": "code",
      "source": [
        "array1 = np.arange(12)\n",
        "print('array1:\\n', array1)\n",
        "\n",
        "array2 = array1.reshape(3,4)\n",
        "print('array2:\\n', array2)\n",
        "\n",
        "array3 = array1.reshape(3,4,order='F') #'order=F'를 선언하면 값을 열부터 채워 넣게 된다.\n",
        "print('array3:\\n', array3)"
      ],
      "metadata": {
        "colab": {
          "base_uri": "https://localhost:8080/"
        },
        "id": "339fg4nHMobC",
        "outputId": "b0abac98-7f10-4d55-d7f9-0a38f68ec1d9"
      },
      "execution_count": 14,
      "outputs": [
        {
          "output_type": "stream",
          "name": "stdout",
          "text": [
            "array1:\n",
            " [ 0  1  2  3  4  5  6  7  8  9 10 11]\n",
            "array2:\n",
            " [[ 0  1  2  3]\n",
            " [ 4  5  6  7]\n",
            " [ 8  9 10 11]]\n",
            "array3:\n",
            " [[ 0  3  6  9]\n",
            " [ 1  4  7 10]\n",
            " [ 2  5  8 11]]\n"
          ]
        }
      ]
    },
    {
      "cell_type": "markdown",
      "source": [
        "reshape을 사용할때 인자로 -1을 입력하는 경우가 일반적이다.\n",
        "-1을 인자로 사용하면 원래 배열과 호환되는 크기로 자동 변환해준다."
      ],
      "metadata": {
        "id": "fS2QL3aUNBG4"
      }
    },
    {
      "cell_type": "code",
      "source": [
        "array1 = np.arange(10)\n",
        "array2 = array1.reshape(-1, 5) #행 인자가 -1, 컬럼 인자가 5 = 5개의 컬럼에 맞는 행을 자동으로 새롭게 생성해라\n",
        "\n",
        "print(array2)\n",
        "print('array2 dim : ', array2.ndim)\n",
        "print('array2 shape : ', array2.shape)"
      ],
      "metadata": {
        "colab": {
          "base_uri": "https://localhost:8080/"
        },
        "id": "cfilhqu0M8pB",
        "outputId": "48423a03-b6a0-477e-99be-160ba9fd10d1"
      },
      "execution_count": 15,
      "outputs": [
        {
          "output_type": "stream",
          "name": "stdout",
          "text": [
            "[[0 1 2 3 4]\n",
            " [5 6 7 8 9]]\n",
            "array2 dim :  2\n",
            "array2 shape :  (2, 5)\n"
          ]
        }
      ]
    },
    {
      "cell_type": "code",
      "source": [
        "array1 = np.arange(12)\n",
        "array2 = array1.reshape(2,3,2, order='F')\n",
        "\n",
        "print(array2)\n",
        "print('array2 dim : ', array2.ndim) #배열 차원\n",
        "print('array2 shape : ', array2.shape)"
      ],
      "metadata": {
        "colab": {
          "base_uri": "https://localhost:8080/"
        },
        "id": "ugaHPGpyNmQR",
        "outputId": "19d6b4a5-62fe-44c5-efc7-447c2334acc8"
      },
      "execution_count": 16,
      "outputs": [
        {
          "output_type": "stream",
          "name": "stdout",
          "text": [
            "[[[ 0  6]\n",
            "  [ 2  8]\n",
            "  [ 4 10]]\n",
            "\n",
            " [[ 1  7]\n",
            "  [ 3  9]\n",
            "  [ 5 11]]]\n",
            "array2 dim :  3\n",
            "array2 shape :  (2, 3, 2)\n"
          ]
        }
      ]
    },
    {
      "cell_type": "code",
      "source": [
        "array3 = array2.flatten() #위 결과를 평평하게 1차원으로 만들어라.\n",
        "print(array3)"
      ],
      "metadata": {
        "colab": {
          "base_uri": "https://localhost:8080/"
        },
        "id": "TuQVpZkDN3hY",
        "outputId": "78fdf719-ad08-4d4b-9151-65d6eb9f2c17"
      },
      "execution_count": 17,
      "outputs": [
        {
          "output_type": "stream",
          "name": "stdout",
          "text": [
            "[ 0  6  2  8  4 10  1  7  3  9  5 11]\n"
          ]
        }
      ]
    },
    {
      "cell_type": "code",
      "source": [
        "array1 = np.arange(1, 10)\n",
        "print('array1 : ', array1)\n",
        "\n",
        "value1 = array1[2]\n",
        "value2 = array1[-2]\n",
        "\n",
        "print(value1)\n",
        "print(value2)"
      ],
      "metadata": {
        "colab": {
          "base_uri": "https://localhost:8080/"
        },
        "id": "9ZnL65g_OFN4",
        "outputId": "8f15a523-13da-4253-de5b-a5af9256b0da"
      },
      "execution_count": 18,
      "outputs": [
        {
          "output_type": "stream",
          "name": "stdout",
          "text": [
            "array1 :  [1 2 3 4 5 6 7 8 9]\n",
            "3\n",
            "8\n"
          ]
        }
      ]
    },
    {
      "cell_type": "code",
      "source": [
        "array1 = np.arange(1, 10)\n",
        "array2 = array1.reshape(3, 3)\n",
        "print('array2 :\\n', array2)\n",
        "\n",
        "value1 = array2[0,0]\n",
        "value2 = array2[-1, -1]\n",
        "value3 = array2[-1, -2]\n",
        "\n",
        "print(value1)\n",
        "print(value2)\n",
        "print(value3)"
      ],
      "metadata": {
        "colab": {
          "base_uri": "https://localhost:8080/"
        },
        "id": "j6P1KpYLONYy",
        "outputId": "8102d36e-208d-4d10-9843-7f8c29dd2569"
      },
      "execution_count": 19,
      "outputs": [
        {
          "output_type": "stream",
          "name": "stdout",
          "text": [
            "array2 :\n",
            " [[1 2 3]\n",
            " [4 5 6]\n",
            " [7 8 9]]\n",
            "1\n",
            "9\n",
            "8\n"
          ]
        }
      ]
    },
    {
      "cell_type": "code",
      "source": [
        "array1 = np.arange(1, 10)\n",
        "array2 = array1[0:3]\n",
        "array3 = array1[:3]\n",
        "array4 = array1[3:]\n",
        "\n",
        "print(type(array2))\n",
        "print(array2)\n",
        "print(array3)\n",
        "print(array4)"
      ],
      "metadata": {
        "colab": {
          "base_uri": "https://localhost:8080/"
        },
        "id": "CQuEdHBQOsRa",
        "outputId": "e1a76c16-e948-4d26-af62-30152f38813b"
      },
      "execution_count": 20,
      "outputs": [
        {
          "output_type": "stream",
          "name": "stdout",
          "text": [
            "<class 'numpy.ndarray'>\n",
            "[1 2 3]\n",
            "[1 2 3]\n",
            "[4 5 6 7 8 9]\n"
          ]
        }
      ]
    },
    {
      "cell_type": "code",
      "source": [
        "array1 = np.arange(1, 10)\n",
        "array2 = array1.reshape(3, 3)\n",
        "print('array2 : \\n', array2)\n",
        "\n",
        "print('array2[0:2, 0:2]\\n', array2[0:2, 0:2])\n",
        "print('array2[1:3, 0:3]\\n', array2[1:3, 0:3])\n",
        "print('array2[:2, 1:]\\n', array2[:2, 1:])\n",
        "print('array2[:2, 0]\\n', array2[:2, 0])"
      ],
      "metadata": {
        "colab": {
          "base_uri": "https://localhost:8080/"
        },
        "id": "8y77czNLO6Ro",
        "outputId": "64960b44-d0da-4366-cc4d-f7dbc3ebf077"
      },
      "execution_count": 21,
      "outputs": [
        {
          "output_type": "stream",
          "name": "stdout",
          "text": [
            "array2 : \n",
            " [[1 2 3]\n",
            " [4 5 6]\n",
            " [7 8 9]]\n",
            "array2[0:2, 0:2]\n",
            " [[1 2]\n",
            " [4 5]]\n",
            "array2[1:3, 0:3]\n",
            " [[4 5 6]\n",
            " [7 8 9]]\n",
            "array2[:2, 1:]\n",
            " [[2 3]\n",
            " [5 6]]\n",
            "array2[:2, 0]\n",
            " [1 4]\n"
          ]
        }
      ]
    },
    {
      "cell_type": "markdown",
      "source": [
        "행렬 내적(행렬곱)과 전치 행렬을 구하는 방법"
      ],
      "metadata": {
        "id": "54BG1ACTQA4A"
      }
    },
    {
      "cell_type": "markdown",
      "source": [
        "행렬 내적, A와 B의 내적은 왼쪽행렬의 행과 오른쪽 행렬의 컬럼 원소들을 순차적으로 곱한 뒤 그 결과를 모두 더한 값이다."
      ],
      "metadata": {
        "id": "LpMiShoBQFRg"
      }
    },
    {
      "cell_type": "code",
      "source": [
        "array1 = np.array([[1, 2, 3],\n",
        "                   [4, 5, 6]])\n",
        "array2 = np.array([[7, 8],\n",
        "                   [9, 10],\n",
        "                   [11, 12]])\n",
        "\n",
        "dot_array = np.dot(array1, array2)\n",
        "print(dot_array)"
      ],
      "metadata": {
        "colab": {
          "base_uri": "https://localhost:8080/"
        },
        "id": "l0ziyiUMP-lK",
        "outputId": "6f35562b-2d0e-4114-8dba-7bbf76fa15fc"
      },
      "execution_count": 22,
      "outputs": [
        {
          "output_type": "stream",
          "name": "stdout",
          "text": [
            "[[ 58  64]\n",
            " [139 154]]\n"
          ]
        }
      ]
    },
    {
      "cell_type": "markdown",
      "source": [
        "전치 행렬\n",
        ":원 행렬에서 행과 열 위치를 교환한 원소로 구성한 행렬"
      ],
      "metadata": {
        "id": "pLu8de_SQfaB"
      }
    },
    {
      "cell_type": "code",
      "source": [
        "array1 = np.array([[1, 2, 3],\n",
        "                   [4, 5, 6]])\n",
        "transpose_array = np.transpose(array1)\n",
        "\n",
        "print(transpose_array)"
      ],
      "metadata": {
        "colab": {
          "base_uri": "https://localhost:8080/"
        },
        "id": "XJdPbJ8XQbep",
        "outputId": "d233a080-193c-435a-d6bf-d8aba8390eba"
      },
      "execution_count": 23,
      "outputs": [
        {
          "output_type": "stream",
          "name": "stdout",
          "text": [
            "[[1 4]\n",
            " [2 5]\n",
            " [3 6]]\n"
          ]
        }
      ]
    },
    {
      "cell_type": "code",
      "source": [
        "#배열 데이터 개수 계산\n",
        "x = np.array([18,   5,  10,  23,  19,  -8,  10,   0,   0,   5,   2,  15,   8,\n",
        "              2,   5,   4,  15,  -1,   4,  -7, -24,   7,   9,  -6,  23, -13])\n",
        "\n",
        "len(x)\n"
      ],
      "metadata": {
        "colab": {
          "base_uri": "https://localhost:8080/"
        },
        "id": "lG8FpjN_QpfA",
        "outputId": "565e7cb8-62c5-43a8-9fd5-43129165be27"
      },
      "execution_count": 27,
      "outputs": [
        {
          "output_type": "execute_result",
          "data": {
            "text/plain": [
              "26"
            ]
          },
          "metadata": {},
          "execution_count": 27
        }
      ]
    },
    {
      "cell_type": "code",
      "source": [
        "#평균,분산,표준편차 계산\n",
        "print(np.mean(x))\n",
        "print(np.var(x))\n",
        "print(np.std(x))"
      ],
      "metadata": {
        "colab": {
          "base_uri": "https://localhost:8080/"
        },
        "id": "sGUfmMuOQxOv",
        "outputId": "e4143aa1-b51d-4aa4-e0c2-1c9695f13ded"
      },
      "execution_count": 25,
      "outputs": [
        {
          "output_type": "stream",
          "name": "stdout",
          "text": [
            "4.8076923076923075\n",
            "115.23224852071006\n",
            "10.734628476137871\n"
          ]
        }
      ]
    },
    {
      "cell_type": "code",
      "source": [
        "print(np.max(x))\n",
        "print(np.min(x))\n",
        "print(np.median(x))"
      ],
      "metadata": {
        "colab": {
          "base_uri": "https://localhost:8080/"
        },
        "id": "fIgtkFNuRAuu",
        "outputId": "3823d985-d647-44a9-d4ed-819c8b651e53"
      },
      "execution_count": 28,
      "outputs": [
        {
          "output_type": "stream",
          "name": "stdout",
          "text": [
            "23\n",
            "-24\n",
            "5.0\n"
          ]
        }
      ]
    },
    {
      "cell_type": "code",
      "source": [
        "# 사분위수 계산 (percentile( , ))\n",
        "print(np.percentile(x, 25)) #1사분위수\n",
        "print(np.percentile(x, 50)) #2사분위수\n",
        "print(np.percentile(x, 75)) #3사분위수"
      ],
      "metadata": {
        "colab": {
          "base_uri": "https://localhost:8080/"
        },
        "id": "WZICLmlVRIuZ",
        "outputId": "2301b184-9c04-4b4b-eaf8-085a5b3cfe46"
      },
      "execution_count": 29,
      "outputs": [
        {
          "output_type": "stream",
          "name": "stdout",
          "text": [
            "0.0\n",
            "5.0\n",
            "10.0\n"
          ]
        }
      ]
    }
  ]
}