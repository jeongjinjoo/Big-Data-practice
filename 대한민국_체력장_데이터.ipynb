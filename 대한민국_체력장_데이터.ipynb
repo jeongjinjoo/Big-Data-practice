{
  "nbformat": 4,
  "nbformat_minor": 0,
  "metadata": {
    "colab": {
      "provenance": [],
      "authorship_tag": "ABX9TyO4L7m4yBjzPVB/pXx/iHd/",
      "include_colab_link": true
    },
    "kernelspec": {
      "name": "python3",
      "display_name": "Python 3"
    },
    "language_info": {
      "name": "python"
    }
  },
  "cells": [
    {
      "cell_type": "markdown",
      "metadata": {
        "id": "view-in-github",
        "colab_type": "text"
      },
      "source": [
        "<a href=\"https://colab.research.google.com/github/jeongjinjoo/Big-Data-practice/blob/main/%EB%8C%80%ED%95%9C%EB%AF%BC%EA%B5%AD_%EC%B2%B4%EB%A0%A5%EC%9E%A5_%EB%8D%B0%EC%9D%B4%ED%84%B0.ipynb\" target=\"_parent\"><img src=\"https://colab.research.google.com/assets/colab-badge.svg\" alt=\"Open In Colab\"/></a>"
      ]
    },
    {
      "cell_type": "code",
      "execution_count": 13,
      "metadata": {
        "colab": {
          "base_uri": "https://localhost:8080/",
          "height": 258
        },
        "id": "qZcNuMe6yQqz",
        "outputId": "4dc7139c-2287-4e17-aa79-02b3e95deb73"
      },
      "outputs": [
        {
          "output_type": "execute_result",
          "data": {
            "text/plain": [
              "   측정나이 측정회원성별  신장 : cm  체중 : kg  체지방율 : %  이완기혈압(최저) : mmHg  \\\n",
              "0  59.0      M    175.0     70.6      19.2              91.0   \n",
              "1  40.0      F    161.4     45.8      21.7              62.0   \n",
              "2  27.0      M    176.6     84.8      19.2              87.0   \n",
              "3  38.0      M    167.6     76.7      24.7              63.0   \n",
              "4  21.0      M    165.2     66.2      21.5              83.0   \n",
              "\n",
              "   수축기혈압(최고) : mmHg  악력D : kg  앉아윗몸앞으로굽히기 : cm  교차윗몸일으키기 : 회  제자리 멀리뛰기 : cm 등급  \n",
              "0             150.0      40.6             12.2          30.0          179.0  C  \n",
              "1             119.0      22.1             16.0          32.0          165.0  B  \n",
              "2             153.0      45.9             13.2          61.0          216.0  B  \n",
              "3             132.0      43.6             16.0          45.0          231.0  A  \n",
              "4             106.0      33.5             10.6          46.0          198.0  C  "
            ],
            "text/html": [
              "\n",
              "  <div id=\"df-9074b682-3d56-4f1c-bda6-be735a4ec617\" class=\"colab-df-container\">\n",
              "    <div>\n",
              "<style scoped>\n",
              "    .dataframe tbody tr th:only-of-type {\n",
              "        vertical-align: middle;\n",
              "    }\n",
              "\n",
              "    .dataframe tbody tr th {\n",
              "        vertical-align: top;\n",
              "    }\n",
              "\n",
              "    .dataframe thead th {\n",
              "        text-align: right;\n",
              "    }\n",
              "</style>\n",
              "<table border=\"1\" class=\"dataframe\">\n",
              "  <thead>\n",
              "    <tr style=\"text-align: right;\">\n",
              "      <th></th>\n",
              "      <th>측정나이</th>\n",
              "      <th>측정회원성별</th>\n",
              "      <th>신장 : cm</th>\n",
              "      <th>체중 : kg</th>\n",
              "      <th>체지방율 : %</th>\n",
              "      <th>이완기혈압(최저) : mmHg</th>\n",
              "      <th>수축기혈압(최고) : mmHg</th>\n",
              "      <th>악력D : kg</th>\n",
              "      <th>앉아윗몸앞으로굽히기 : cm</th>\n",
              "      <th>교차윗몸일으키기 : 회</th>\n",
              "      <th>제자리 멀리뛰기 : cm</th>\n",
              "      <th>등급</th>\n",
              "    </tr>\n",
              "  </thead>\n",
              "  <tbody>\n",
              "    <tr>\n",
              "      <th>0</th>\n",
              "      <td>59.0</td>\n",
              "      <td>M</td>\n",
              "      <td>175.0</td>\n",
              "      <td>70.6</td>\n",
              "      <td>19.2</td>\n",
              "      <td>91.0</td>\n",
              "      <td>150.0</td>\n",
              "      <td>40.6</td>\n",
              "      <td>12.2</td>\n",
              "      <td>30.0</td>\n",
              "      <td>179.0</td>\n",
              "      <td>C</td>\n",
              "    </tr>\n",
              "    <tr>\n",
              "      <th>1</th>\n",
              "      <td>40.0</td>\n",
              "      <td>F</td>\n",
              "      <td>161.4</td>\n",
              "      <td>45.8</td>\n",
              "      <td>21.7</td>\n",
              "      <td>62.0</td>\n",
              "      <td>119.0</td>\n",
              "      <td>22.1</td>\n",
              "      <td>16.0</td>\n",
              "      <td>32.0</td>\n",
              "      <td>165.0</td>\n",
              "      <td>B</td>\n",
              "    </tr>\n",
              "    <tr>\n",
              "      <th>2</th>\n",
              "      <td>27.0</td>\n",
              "      <td>M</td>\n",
              "      <td>176.6</td>\n",
              "      <td>84.8</td>\n",
              "      <td>19.2</td>\n",
              "      <td>87.0</td>\n",
              "      <td>153.0</td>\n",
              "      <td>45.9</td>\n",
              "      <td>13.2</td>\n",
              "      <td>61.0</td>\n",
              "      <td>216.0</td>\n",
              "      <td>B</td>\n",
              "    </tr>\n",
              "    <tr>\n",
              "      <th>3</th>\n",
              "      <td>38.0</td>\n",
              "      <td>M</td>\n",
              "      <td>167.6</td>\n",
              "      <td>76.7</td>\n",
              "      <td>24.7</td>\n",
              "      <td>63.0</td>\n",
              "      <td>132.0</td>\n",
              "      <td>43.6</td>\n",
              "      <td>16.0</td>\n",
              "      <td>45.0</td>\n",
              "      <td>231.0</td>\n",
              "      <td>A</td>\n",
              "    </tr>\n",
              "    <tr>\n",
              "      <th>4</th>\n",
              "      <td>21.0</td>\n",
              "      <td>M</td>\n",
              "      <td>165.2</td>\n",
              "      <td>66.2</td>\n",
              "      <td>21.5</td>\n",
              "      <td>83.0</td>\n",
              "      <td>106.0</td>\n",
              "      <td>33.5</td>\n",
              "      <td>10.6</td>\n",
              "      <td>46.0</td>\n",
              "      <td>198.0</td>\n",
              "      <td>C</td>\n",
              "    </tr>\n",
              "  </tbody>\n",
              "</table>\n",
              "</div>\n",
              "    <div class=\"colab-df-buttons\">\n",
              "\n",
              "  <div class=\"colab-df-container\">\n",
              "    <button class=\"colab-df-convert\" onclick=\"convertToInteractive('df-9074b682-3d56-4f1c-bda6-be735a4ec617')\"\n",
              "            title=\"Convert this dataframe to an interactive table.\"\n",
              "            style=\"display:none;\">\n",
              "\n",
              "  <svg xmlns=\"http://www.w3.org/2000/svg\" height=\"24px\" viewBox=\"0 -960 960 960\">\n",
              "    <path d=\"M120-120v-720h720v720H120Zm60-500h600v-160H180v160Zm220 220h160v-160H400v160Zm0 220h160v-160H400v160ZM180-400h160v-160H180v160Zm440 0h160v-160H620v160ZM180-180h160v-160H180v160Zm440 0h160v-160H620v160Z\"/>\n",
              "  </svg>\n",
              "    </button>\n",
              "\n",
              "  <style>\n",
              "    .colab-df-container {\n",
              "      display:flex;\n",
              "      gap: 12px;\n",
              "    }\n",
              "\n",
              "    .colab-df-convert {\n",
              "      background-color: #E8F0FE;\n",
              "      border: none;\n",
              "      border-radius: 50%;\n",
              "      cursor: pointer;\n",
              "      display: none;\n",
              "      fill: #1967D2;\n",
              "      height: 32px;\n",
              "      padding: 0 0 0 0;\n",
              "      width: 32px;\n",
              "    }\n",
              "\n",
              "    .colab-df-convert:hover {\n",
              "      background-color: #E2EBFA;\n",
              "      box-shadow: 0px 1px 2px rgba(60, 64, 67, 0.3), 0px 1px 3px 1px rgba(60, 64, 67, 0.15);\n",
              "      fill: #174EA6;\n",
              "    }\n",
              "\n",
              "    .colab-df-buttons div {\n",
              "      margin-bottom: 4px;\n",
              "    }\n",
              "\n",
              "    [theme=dark] .colab-df-convert {\n",
              "      background-color: #3B4455;\n",
              "      fill: #D2E3FC;\n",
              "    }\n",
              "\n",
              "    [theme=dark] .colab-df-convert:hover {\n",
              "      background-color: #434B5C;\n",
              "      box-shadow: 0px 1px 3px 1px rgba(0, 0, 0, 0.15);\n",
              "      filter: drop-shadow(0px 1px 2px rgba(0, 0, 0, 0.3));\n",
              "      fill: #FFFFFF;\n",
              "    }\n",
              "  </style>\n",
              "\n",
              "    <script>\n",
              "      const buttonEl =\n",
              "        document.querySelector('#df-9074b682-3d56-4f1c-bda6-be735a4ec617 button.colab-df-convert');\n",
              "      buttonEl.style.display =\n",
              "        google.colab.kernel.accessAllowed ? 'block' : 'none';\n",
              "\n",
              "      async function convertToInteractive(key) {\n",
              "        const element = document.querySelector('#df-9074b682-3d56-4f1c-bda6-be735a4ec617');\n",
              "        const dataTable =\n",
              "          await google.colab.kernel.invokeFunction('convertToInteractive',\n",
              "                                                    [key], {});\n",
              "        if (!dataTable) return;\n",
              "\n",
              "        const docLinkHtml = 'Like what you see? Visit the ' +\n",
              "          '<a target=\"_blank\" href=https://colab.research.google.com/notebooks/data_table.ipynb>data table notebook</a>'\n",
              "          + ' to learn more about interactive tables.';\n",
              "        element.innerHTML = '';\n",
              "        dataTable['output_type'] = 'display_data';\n",
              "        await google.colab.output.renderOutput(dataTable, element);\n",
              "        const docLink = document.createElement('div');\n",
              "        docLink.innerHTML = docLinkHtml;\n",
              "        element.appendChild(docLink);\n",
              "      }\n",
              "    </script>\n",
              "  </div>\n",
              "\n",
              "\n",
              "<div id=\"df-e528b443-8c6b-4c0e-990e-bf93d03e08e0\">\n",
              "  <button class=\"colab-df-quickchart\" onclick=\"quickchart('df-e528b443-8c6b-4c0e-990e-bf93d03e08e0')\"\n",
              "            title=\"Suggest charts\"\n",
              "            style=\"display:none;\">\n",
              "\n",
              "<svg xmlns=\"http://www.w3.org/2000/svg\" height=\"24px\"viewBox=\"0 0 24 24\"\n",
              "     width=\"24px\">\n",
              "    <g>\n",
              "        <path d=\"M19 3H5c-1.1 0-2 .9-2 2v14c0 1.1.9 2 2 2h14c1.1 0 2-.9 2-2V5c0-1.1-.9-2-2-2zM9 17H7v-7h2v7zm4 0h-2V7h2v10zm4 0h-2v-4h2v4z\"/>\n",
              "    </g>\n",
              "</svg>\n",
              "  </button>\n",
              "\n",
              "<style>\n",
              "  .colab-df-quickchart {\n",
              "      --bg-color: #E8F0FE;\n",
              "      --fill-color: #1967D2;\n",
              "      --hover-bg-color: #E2EBFA;\n",
              "      --hover-fill-color: #174EA6;\n",
              "      --disabled-fill-color: #AAA;\n",
              "      --disabled-bg-color: #DDD;\n",
              "  }\n",
              "\n",
              "  [theme=dark] .colab-df-quickchart {\n",
              "      --bg-color: #3B4455;\n",
              "      --fill-color: #D2E3FC;\n",
              "      --hover-bg-color: #434B5C;\n",
              "      --hover-fill-color: #FFFFFF;\n",
              "      --disabled-bg-color: #3B4455;\n",
              "      --disabled-fill-color: #666;\n",
              "  }\n",
              "\n",
              "  .colab-df-quickchart {\n",
              "    background-color: var(--bg-color);\n",
              "    border: none;\n",
              "    border-radius: 50%;\n",
              "    cursor: pointer;\n",
              "    display: none;\n",
              "    fill: var(--fill-color);\n",
              "    height: 32px;\n",
              "    padding: 0;\n",
              "    width: 32px;\n",
              "  }\n",
              "\n",
              "  .colab-df-quickchart:hover {\n",
              "    background-color: var(--hover-bg-color);\n",
              "    box-shadow: 0 1px 2px rgba(60, 64, 67, 0.3), 0 1px 3px 1px rgba(60, 64, 67, 0.15);\n",
              "    fill: var(--button-hover-fill-color);\n",
              "  }\n",
              "\n",
              "  .colab-df-quickchart-complete:disabled,\n",
              "  .colab-df-quickchart-complete:disabled:hover {\n",
              "    background-color: var(--disabled-bg-color);\n",
              "    fill: var(--disabled-fill-color);\n",
              "    box-shadow: none;\n",
              "  }\n",
              "\n",
              "  .colab-df-spinner {\n",
              "    border: 2px solid var(--fill-color);\n",
              "    border-color: transparent;\n",
              "    border-bottom-color: var(--fill-color);\n",
              "    animation:\n",
              "      spin 1s steps(1) infinite;\n",
              "  }\n",
              "\n",
              "  @keyframes spin {\n",
              "    0% {\n",
              "      border-color: transparent;\n",
              "      border-bottom-color: var(--fill-color);\n",
              "      border-left-color: var(--fill-color);\n",
              "    }\n",
              "    20% {\n",
              "      border-color: transparent;\n",
              "      border-left-color: var(--fill-color);\n",
              "      border-top-color: var(--fill-color);\n",
              "    }\n",
              "    30% {\n",
              "      border-color: transparent;\n",
              "      border-left-color: var(--fill-color);\n",
              "      border-top-color: var(--fill-color);\n",
              "      border-right-color: var(--fill-color);\n",
              "    }\n",
              "    40% {\n",
              "      border-color: transparent;\n",
              "      border-right-color: var(--fill-color);\n",
              "      border-top-color: var(--fill-color);\n",
              "    }\n",
              "    60% {\n",
              "      border-color: transparent;\n",
              "      border-right-color: var(--fill-color);\n",
              "    }\n",
              "    80% {\n",
              "      border-color: transparent;\n",
              "      border-right-color: var(--fill-color);\n",
              "      border-bottom-color: var(--fill-color);\n",
              "    }\n",
              "    90% {\n",
              "      border-color: transparent;\n",
              "      border-bottom-color: var(--fill-color);\n",
              "    }\n",
              "  }\n",
              "</style>\n",
              "\n",
              "  <script>\n",
              "    async function quickchart(key) {\n",
              "      const quickchartButtonEl =\n",
              "        document.querySelector('#' + key + ' button');\n",
              "      quickchartButtonEl.disabled = true;  // To prevent multiple clicks.\n",
              "      quickchartButtonEl.classList.add('colab-df-spinner');\n",
              "      try {\n",
              "        const charts = await google.colab.kernel.invokeFunction(\n",
              "            'suggestCharts', [key], {});\n",
              "      } catch (error) {\n",
              "        console.error('Error during call to suggestCharts:', error);\n",
              "      }\n",
              "      quickchartButtonEl.classList.remove('colab-df-spinner');\n",
              "      quickchartButtonEl.classList.add('colab-df-quickchart-complete');\n",
              "    }\n",
              "    (() => {\n",
              "      let quickchartButtonEl =\n",
              "        document.querySelector('#df-e528b443-8c6b-4c0e-990e-bf93d03e08e0 button');\n",
              "      quickchartButtonEl.style.display =\n",
              "        google.colab.kernel.accessAllowed ? 'block' : 'none';\n",
              "    })();\n",
              "  </script>\n",
              "</div>\n",
              "\n",
              "    </div>\n",
              "  </div>\n"
            ],
            "application/vnd.google.colaboratory.intrinsic+json": {
              "type": "dataframe",
              "summary": "{\n  \"name\": \"# df\",\n  \"rows\": 5,\n  \"fields\": [\n    {\n      \"column\": \"\\uce21\\uc815\\ub098\\uc774\",\n      \"properties\": {\n        \"dtype\": \"number\",\n        \"std\": 14.577379737113251,\n        \"min\": 21.0,\n        \"max\": 59.0,\n        \"num_unique_values\": 5,\n        \"samples\": [\n          40.0,\n          21.0,\n          27.0\n        ],\n        \"semantic_type\": \"\",\n        \"description\": \"\"\n      }\n    },\n    {\n      \"column\": \"\\uce21\\uc815\\ud68c\\uc6d0\\uc131\\ubcc4\",\n      \"properties\": {\n        \"dtype\": \"category\",\n        \"num_unique_values\": 2,\n        \"samples\": [\n          \"F\",\n          \"M\"\n        ],\n        \"semantic_type\": \"\",\n        \"description\": \"\"\n      }\n    },\n    {\n      \"column\": \"\\uc2e0\\uc7a5 : cm\",\n      \"properties\": {\n        \"dtype\": \"number\",\n        \"std\": 6.476727568764954,\n        \"min\": 161.4,\n        \"max\": 176.6,\n        \"num_unique_values\": 5,\n        \"samples\": [\n          161.4,\n          165.2\n        ],\n        \"semantic_type\": \"\",\n        \"description\": \"\"\n      }\n    },\n    {\n      \"column\": \"\\uccb4\\uc911 : kg\",\n      \"properties\": {\n        \"dtype\": \"number\",\n        \"std\": 14.64076500733483,\n        \"min\": 45.8,\n        \"max\": 84.8,\n        \"num_unique_values\": 5,\n        \"samples\": [\n          45.8,\n          66.2\n        ],\n        \"semantic_type\": \"\",\n        \"description\": \"\"\n      }\n    },\n    {\n      \"column\": \"\\uccb4\\uc9c0\\ubc29\\uc728 : %\",\n      \"properties\": {\n        \"dtype\": \"number\",\n        \"std\": 2.2678183348760546,\n        \"min\": 19.2,\n        \"max\": 24.7,\n        \"num_unique_values\": 4,\n        \"samples\": [\n          21.7,\n          21.5\n        ],\n        \"semantic_type\": \"\",\n        \"description\": \"\"\n      }\n    },\n    {\n      \"column\": \"\\uc774\\uc644\\uae30\\ud608\\uc555(\\ucd5c\\uc800) : mmHg\",\n      \"properties\": {\n        \"dtype\": \"number\",\n        \"std\": 13.718600511714014,\n        \"min\": 62.0,\n        \"max\": 91.0,\n        \"num_unique_values\": 5,\n        \"samples\": [\n          62.0,\n          83.0\n        ],\n        \"semantic_type\": \"\",\n        \"description\": \"\"\n      }\n    },\n    {\n      \"column\": \"\\uc218\\ucd95\\uae30\\ud608\\uc555(\\ucd5c\\uace0) : mmHg\",\n      \"properties\": {\n        \"dtype\": \"number\",\n        \"std\": 20.062402647738878,\n        \"min\": 106.0,\n        \"max\": 153.0,\n        \"num_unique_values\": 5,\n        \"samples\": [\n          119.0,\n          106.0\n        ],\n        \"semantic_type\": \"\",\n        \"description\": \"\"\n      }\n    },\n    {\n      \"column\": \"\\uc545\\ub825D : kg\",\n      \"properties\": {\n        \"dtype\": \"number\",\n        \"std\": 9.616288265229988,\n        \"min\": 22.1,\n        \"max\": 45.9,\n        \"num_unique_values\": 5,\n        \"samples\": [\n          22.1,\n          33.5\n        ],\n        \"semantic_type\": \"\",\n        \"description\": \"\"\n      }\n    },\n    {\n      \"column\": \"\\uc549\\uc544\\uc717\\ubab8\\uc55e\\uc73c\\ub85c\\uad7d\\ud788\\uae30 : cm\",\n      \"properties\": {\n        \"dtype\": \"number\",\n        \"std\": 2.379075450674064,\n        \"min\": 10.6,\n        \"max\": 16.0,\n        \"num_unique_values\": 4,\n        \"samples\": [\n          16.0,\n          10.6\n        ],\n        \"semantic_type\": \"\",\n        \"description\": \"\"\n      }\n    },\n    {\n      \"column\": \"\\uad50\\ucc28\\uc717\\ubab8\\uc77c\\uc73c\\ud0a4\\uae30 : \\ud68c\",\n      \"properties\": {\n        \"dtype\": \"number\",\n        \"std\": 12.517987058628876,\n        \"min\": 30.0,\n        \"max\": 61.0,\n        \"num_unique_values\": 5,\n        \"samples\": [\n          32.0,\n          46.0\n        ],\n        \"semantic_type\": \"\",\n        \"description\": \"\"\n      }\n    },\n    {\n      \"column\": \"\\uc81c\\uc790\\ub9ac \\uba40\\ub9ac\\ub6f0\\uae30 : cm\",\n      \"properties\": {\n        \"dtype\": \"number\",\n        \"std\": 26.752569970004753,\n        \"min\": 165.0,\n        \"max\": 231.0,\n        \"num_unique_values\": 5,\n        \"samples\": [\n          165.0,\n          198.0\n        ],\n        \"semantic_type\": \"\",\n        \"description\": \"\"\n      }\n    },\n    {\n      \"column\": \"\\ub4f1\\uae09\",\n      \"properties\": {\n        \"dtype\": \"string\",\n        \"num_unique_values\": 3,\n        \"samples\": [\n          \"C\",\n          \"B\"\n        ],\n        \"semantic_type\": \"\",\n        \"description\": \"\"\n      }\n    }\n  ]\n}"
            }
          },
          "metadata": {},
          "execution_count": 13
        }
      ],
      "source": [
        "import pandas as pd\n",
        "df =pd.read_csv('https://raw.githubusercontent.com/Datamanim/datarepo/main/body/body.csv')\n",
        "df.head()\n",
        "# df.info()"
      ]
    },
    {
      "cell_type": "markdown",
      "source": [
        "전체데이터의 수축기혈압(최고) - 이완기혈압(최저)의 평균을 구하여라"
      ],
      "metadata": {
        "id": "EbU4p3w9zWyk"
      }
    },
    {
      "cell_type": "code",
      "source": [
        "result =  (df['수축기혈압(최고) : mmHg'] - df['이완기혈압(최저) : mmHg']).mean()\n",
        "print(result)"
      ],
      "metadata": {
        "id": "CXFisb-PzZLb",
        "colab": {
          "base_uri": "https://localhost:8080/"
        },
        "outputId": "36a69ce0-0e5b-4a88-bc72-6e87cc5d59f4"
      },
      "execution_count": 5,
      "outputs": [
        {
          "output_type": "stream",
          "name": "stdout",
          "text": [
            "52.19539414750672\n"
          ]
        }
      ]
    },
    {
      "cell_type": "markdown",
      "source": [
        "50~59세의 신장평균을 구하여라"
      ],
      "metadata": {
        "id": "qiZplp2mzZvW"
      }
    },
    {
      "cell_type": "code",
      "source": [
        "a = df['측정나이'] >= 50\n",
        "b = df['측정나이'] <= 59\n",
        "result = df[a & b]['신장 : cm'].mean()\n",
        "print(result)"
      ],
      "metadata": {
        "id": "PKrXoI8uzbzI",
        "colab": {
          "base_uri": "https://localhost:8080/"
        },
        "outputId": "74f6767f-c95a-4620-f1db-56630334221c"
      },
      "execution_count": 15,
      "outputs": [
        {
          "output_type": "stream",
          "name": "stdout",
          "text": [
            "164.07490107405314\n"
          ]
        }
      ]
    },
    {
      "cell_type": "markdown",
      "source": [
        "연령대 (20~29 : 20대 …) 별 인원수를 구하여라"
      ],
      "metadata": {
        "id": "GrNrfl_uzd4X"
      }
    },
    {
      "cell_type": "code",
      "source": [
        "df['연령대']  = df.측정나이 // 10 *10\n",
        "# print(df.head())\n",
        "result = df['연령대'].value_counts()\n",
        "print(result)"
      ],
      "metadata": {
        "id": "-O4FjK-Azef3",
        "colab": {
          "base_uri": "https://localhost:8080/"
        },
        "outputId": "6f92ec92-0162-4bda-aba0-b97916bf4dea"
      },
      "execution_count": 19,
      "outputs": [
        {
          "output_type": "stream",
          "name": "stdout",
          "text": [
            "연령대\n",
            "20.0    5831\n",
            "30.0    2660\n",
            "40.0    1801\n",
            "50.0    1769\n",
            "60.0    1335\n",
            "Name: count, dtype: int64\n"
          ]
        }
      ]
    },
    {
      "cell_type": "markdown",
      "source": [
        "연령대 (20~29 : 20대 …) 별 등급의 숫자를 데이터 프레임으로 표현하라"
      ],
      "metadata": {
        "id": "wCe_T9WozfBD"
      }
    },
    {
      "cell_type": "code",
      "source": [
        "result = df.groupby('연령대', as_index = False)['등급'].value_counts()\n",
        "print(result)"
      ],
      "metadata": {
        "id": "XYCwbIRkzhs9",
        "colab": {
          "base_uri": "https://localhost:8080/"
        },
        "outputId": "3c558b2d-b654-4ed0-decd-bba72a8a49f4"
      },
      "execution_count": 24,
      "outputs": [
        {
          "output_type": "stream",
          "name": "stdout",
          "text": [
            "     연령대 등급  count\n",
            "0   20.0  A   1585\n",
            "1   20.0  C   1455\n",
            "2   20.0  B   1443\n",
            "3   20.0  D   1348\n",
            "4   30.0  A    743\n",
            "5   30.0  B    697\n",
            "6   30.0  C    626\n",
            "7   30.0  D    594\n",
            "8   40.0  D    532\n",
            "9   40.0  C    455\n",
            "10  40.0  B    428\n",
            "11  40.0  A    386\n",
            "12  50.0  D    564\n",
            "13  50.0  C    474\n",
            "14  50.0  B    410\n",
            "15  50.0  A    321\n",
            "16  60.0  B    371\n",
            "17  60.0  C    339\n",
            "18  60.0  A    314\n",
            "19  60.0  D    311\n"
          ]
        }
      ]
    },
    {
      "cell_type": "markdown",
      "source": [
        "남성 중 A등급과 D등급의 체지방률 평균의 차이(큰 값에서 작은 값의 차)를 구하여라"
      ],
      "metadata": {
        "id": "neg4XIfnzkr_"
      }
    },
    {
      "cell_type": "code",
      "source": [
        "# df.head()\n",
        "# df.info()\n",
        "#A등급의 체지방률 평균\n",
        "result = df[(df.측정회원성별 =='M') &(df['등급'] =='A') ]['체지방율 : %'].mean()\n",
        "result2 = df[(df.측정회원성별 =='M') & (df['등급'] =='D') ]['체지방율 : %'].mean()\n",
        "print(abs(result - result2))\n",
        "#D등급의 체지방률 평균"
      ],
      "metadata": {
        "id": "EbglkgsgzlVu",
        "colab": {
          "base_uri": "https://localhost:8080/"
        },
        "outputId": "20e1cecc-f6d0-40b2-9fac-77ba45d4a21d"
      },
      "execution_count": 32,
      "outputs": [
        {
          "output_type": "stream",
          "name": "stdout",
          "text": [
            "7.932086486137521\n"
          ]
        }
      ]
    },
    {
      "cell_type": "markdown",
      "source": [
        "여성 중 A등급과 D등급의 체중의 평균의 차이(큰 값에서 작은 값의 차)를 구하여라"
      ],
      "metadata": {
        "id": "a1AHLINezn1A"
      }
    },
    {
      "cell_type": "code",
      "source": [],
      "metadata": {
        "id": "ibn1Sazizoco"
      },
      "execution_count": null,
      "outputs": []
    },
    {
      "cell_type": "markdown",
      "source": [
        "bmi는 자신의 몸무게(kg)를 키의 제곱(m)으로 나눈값이다. 데이터의 bmi 를 구한 새로운 컬럼을 만들고 남성의 bmi 평균을 구하여라"
      ],
      "metadata": {
        "id": "osbSEQvnzpJe"
      }
    },
    {
      "cell_type": "code",
      "source": [
        "# df.info()\n",
        "# 체중 : kg\n",
        "# 신장 : cm\n",
        "\n",
        "df['bmi'] = df['체중 : kg'] / (df['신장 : cm']/100) **2\n",
        "# df.head()\n",
        "result = df[df.측정회원성별 =='M']['bmi'].mean()\n",
        "print(result)"
      ],
      "metadata": {
        "id": "6BGFHX97zrTw",
        "colab": {
          "base_uri": "https://localhost:8080/"
        },
        "outputId": "34038fc3-c98b-4c1b-bbc8-3791027245c0"
      },
      "execution_count": 47,
      "outputs": [
        {
          "output_type": "stream",
          "name": "stdout",
          "text": [
            "24.46134409819308\n"
          ]
        }
      ]
    },
    {
      "cell_type": "markdown",
      "source": [
        "bmi보다 체지방율이 높은 사람들의 체중평균을 구하여라"
      ],
      "metadata": {
        "id": "O34mG13MzrlF"
      }
    },
    {
      "cell_type": "code",
      "source": [
        "df.head()\n",
        "#  체지방율 : %\n",
        "result = df[df['bmi'] < df['체지방율 : %']]['체중 : kg'].mean()\n",
        "print(result)"
      ],
      "metadata": {
        "id": "pIUL8WRhzt0h",
        "colab": {
          "base_uri": "https://localhost:8080/"
        },
        "outputId": "ccb01d09-ba68-45e5-8786-370d37cdb3f2"
      },
      "execution_count": 40,
      "outputs": [
        {
          "output_type": "stream",
          "name": "stdout",
          "text": [
            "61.7408806392542\n"
          ]
        }
      ]
    },
    {
      "cell_type": "markdown",
      "source": [
        "남성과 여성의 악력 평균의 차이를 구하여라"
      ],
      "metadata": {
        "id": "NxUBC0wozuMk"
      }
    },
    {
      "cell_type": "code",
      "source": [
        "df.head()\n",
        "a = df[df['측정회원성별'] == 'M']['악력D : kg'].mean()\n",
        "b = df[df['측정회원성별'] == 'F']['악력D : kg'].mean()\n",
        "print(a - b)"
      ],
      "metadata": {
        "id": "xnNTvaNdzwNg",
        "colab": {
          "base_uri": "https://localhost:8080/"
        },
        "outputId": "e923c50e-6d34-43a3-b4c9-c7a3fce0130d"
      },
      "execution_count": 43,
      "outputs": [
        {
          "output_type": "stream",
          "name": "stdout",
          "text": [
            "17.55954185047464\n"
          ]
        }
      ]
    },
    {
      "cell_type": "markdown",
      "source": [
        "남성과 여성의 교차윗몸일으키기 횟수의 평균의 차이를 구하여라"
      ],
      "metadata": {
        "id": "Io5kmUXIzwkB"
      }
    },
    {
      "cell_type": "code",
      "source": [
        "df.head()\n",
        "df.head()\n",
        "a = df[df['측정회원성별'] == 'M']['교차윗몸일으키기 : 회'].mean()\n",
        "b = df[df['측정회원성별'] == 'F']['교차윗몸일으키기 : 회'].mean()\n",
        "print(a - b)"
      ],
      "metadata": {
        "id": "aP7BcxSmzynC",
        "colab": {
          "base_uri": "https://localhost:8080/"
        },
        "outputId": "988a358a-76fc-46e2-ded1-be73d1e53d3a"
      },
      "execution_count": 45,
      "outputs": [
        {
          "output_type": "stream",
          "name": "stdout",
          "text": [
            "14.243156833157627\n"
          ]
        }
      ]
    }
  ]
}