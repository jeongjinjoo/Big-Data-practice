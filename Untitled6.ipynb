{
  "nbformat": 4,
  "nbformat_minor": 0,
  "metadata": {
    "colab": {
      "provenance": [],
      "authorship_tag": "ABX9TyNwyrIjv2kxKOQjZoiTSkgQ",
      "include_colab_link": true
    },
    "kernelspec": {
      "name": "python3",
      "display_name": "Python 3"
    },
    "language_info": {
      "name": "python"
    }
  },
  "cells": [
    {
      "cell_type": "markdown",
      "metadata": {
        "id": "view-in-github",
        "colab_type": "text"
      },
      "source": [
        "<a href=\"https://colab.research.google.com/github/jeongjinjoo/Big-Data-practice/blob/main/Untitled6.ipynb\" target=\"_parent\"><img src=\"https://colab.research.google.com/assets/colab-badge.svg\" alt=\"Open In Colab\"/></a>"
      ]
    },
    {
      "cell_type": "code",
      "execution_count": 1,
      "metadata": {
        "id": "c2IVqCVgHmdV"
      },
      "outputs": [],
      "source": [
        "import pandas as pd"
      ]
    },
    {
      "cell_type": "markdown",
      "source": [
        "Pandas는 가장 인기 있고 핵심적인 라이브러리\n",
        "행과 열로 구성되어 있다.\n",
        "pandas의 핵심 객체는  데이터프레임이다.\n",
        "데이터프레임은 여러 개의 행과 열로 이루어진 2차원 데이터를 효율적으로 가공 및 처리할 수 있는 다양하고 훌륭한 기능을 제공한다."
      ],
      "metadata": {
        "id": "os9-ZVGM1ume"
      }
    },
    {
      "cell_type": "code",
      "source": [
        "s = pd.Series([1, 3, 5, 6, 8]) #Series는 1차원 배열의 형태를 가진 자료 구조\n",
        "\n",
        "print(s)\n",
        "print(s.index)\n",
        "print(s.values)"
      ],
      "metadata": {
        "colab": {
          "base_uri": "https://localhost:8080/"
        },
        "id": "fcnqBH8mzqWR",
        "outputId": "716d2487-504a-4a3d-e5de-308e6b736933"
      },
      "execution_count": 2,
      "outputs": [
        {
          "output_type": "stream",
          "name": "stdout",
          "text": [
            "0    1\n",
            "1    3\n",
            "2    5\n",
            "3    6\n",
            "4    8\n",
            "dtype: int64\n",
            "RangeIndex(start=0, stop=5, step=1)\n",
            "[1 3 5 6 8]\n"
          ]
        }
      ]
    },
    {
      "cell_type": "code",
      "source": [
        "v = [[1, 2, 3], [4, 5, 6], [7, 8, 9]]\n",
        "i = ['첫째행', '둘째행', '셋째행']\n",
        "c = ['컬럼1', '칼럼2', '칼럼3']\n",
        "\n",
        "df = pd.DataFrame(v, index=i, columns=c) #index는 행, columns는 컬럼\n",
        "# 데이터프레임은 2차원 행렬 구조의 테이블 형태로 구성됨.\n",
        "print(df)"
      ],
      "metadata": {
        "colab": {
          "base_uri": "https://localhost:8080/"
        },
        "id": "StsvSI1-8HF6",
        "outputId": "cc591369-09e2-4989-983e-fc8d39b77853"
      },
      "execution_count": 3,
      "outputs": [
        {
          "output_type": "stream",
          "name": "stdout",
          "text": [
            "     컬럼1  칼럼2  칼럼3\n",
            "첫째행    1    2    3\n",
            "둘째행    4    5    6\n",
            "셋째행    7    8    9\n"
          ]
        }
      ]
    },
    {
      "cell_type": "code",
      "source": [
        "d = [\n",
        "    ['100', '강백호', 9.7],\n",
        "    ['101', '송태섭', 8.9],\n",
        "    ['102', '서태웅', 9.3],\n",
        "    ['103', '채치수', 6.1]\n",
        "    ]\n",
        "df = pd.DataFrame(d, columns=['번호', '이름', '점수'])\n",
        "# 인덱스를 지정하지 않은 경우, 자동으로 0부터 채번되어 생성된다.\n",
        "print(df)"
      ],
      "metadata": {
        "colab": {
          "base_uri": "https://localhost:8080/"
        },
        "id": "qoKVLk0D8b7I",
        "outputId": "d4ca1bb9-7e65-4201-b6d6-1bb3a9166206"
      },
      "execution_count": 4,
      "outputs": [
        {
          "output_type": "stream",
          "name": "stdout",
          "text": [
            "    번호   이름   점수\n",
            "0  100  강백호  9.7\n",
            "1  101  송태섭  8.9\n",
            "2  102  서태웅  9.3\n",
            "3  103  채치수  6.1\n"
          ]
        }
      ]
    },
    {
      "cell_type": "code",
      "source": [
        "d = {\n",
        "    '번호' : ['100', '101', '102', '103'],\n",
        "    '이름' : [ '강백호', '송태섭', '서태웅', '채치수'],\n",
        "    '점수': [9.7, 8.9, 9.3, 6.1,]\n",
        "    }\n",
        "    # 딕셔너리로 데이터프레임을 생성함\n",
        "    # 딕셔너리의 키는 컬럼에 자동으로 지정됨.\n",
        "    # 딕셔너리는 {}로 표시\n",
        "    # 딕셔너리는 행이 아닌 열 방향으로 데이터가 할당됨.\n",
        "\n",
        "df = pd.DataFrame(d)\n",
        "print(df)"
      ],
      "metadata": {
        "colab": {
          "base_uri": "https://localhost:8080/"
        },
        "id": "qV2bC8cG8peY",
        "outputId": "bc31bbda-3448-405d-efe5-ff7d826154ff"
      },
      "execution_count": 5,
      "outputs": [
        {
          "output_type": "stream",
          "name": "stdout",
          "text": [
            "    번호   이름   점수\n",
            "0  100  강백호  9.7\n",
            "1  101  송태섭  8.9\n",
            "2  102  서태웅  9.3\n",
            "3  103  채치수  6.1\n"
          ]
        }
      ]
    },
    {
      "cell_type": "markdown",
      "source": [
        "샘플 데이터로 제공하는 캘리포니아 부동산 csv 파일을 데이터프레임으로 바로 로딩하는 내용"
      ],
      "metadata": {
        "id": "QZfMyFVY9LWv"
      }
    },
    {
      "cell_type": "code",
      "source": [
        "housing_df = pd.read_csv('/content/sample_data/california_housing_train.csv')\n",
        "# read_csv('파일 경로')함수는 csv 파일 포맷(컬럼을 ','로 구분한 파일 포맷)을\n",
        "# 데이터 프레임으로 변환하기 위한 API\n",
        "\n",
        "print('housing 변수 type : ', type(housing_df))\n",
        "print(housing_df)"
      ],
      "metadata": {
        "colab": {
          "base_uri": "https://localhost:8080/"
        },
        "id": "N461xPD_9HgB",
        "outputId": "ac9f35ab-043f-4f1f-f072-38acec68a119"
      },
      "execution_count": 6,
      "outputs": [
        {
          "output_type": "stream",
          "name": "stdout",
          "text": [
            "housing 변수 type :  <class 'pandas.core.frame.DataFrame'>\n",
            "       longitude  latitude  housing_median_age  total_rooms  total_bedrooms  \\\n",
            "0        -114.31     34.19                15.0       5612.0          1283.0   \n",
            "1        -114.47     34.40                19.0       7650.0          1901.0   \n",
            "2        -114.56     33.69                17.0        720.0           174.0   \n",
            "3        -114.57     33.64                14.0       1501.0           337.0   \n",
            "4        -114.57     33.57                20.0       1454.0           326.0   \n",
            "...          ...       ...                 ...          ...             ...   \n",
            "16995    -124.26     40.58                52.0       2217.0           394.0   \n",
            "16996    -124.27     40.69                36.0       2349.0           528.0   \n",
            "16997    -124.30     41.84                17.0       2677.0           531.0   \n",
            "16998    -124.30     41.80                19.0       2672.0           552.0   \n",
            "16999    -124.35     40.54                52.0       1820.0           300.0   \n",
            "\n",
            "       population  households  median_income  median_house_value  \n",
            "0          1015.0       472.0         1.4936             66900.0  \n",
            "1          1129.0       463.0         1.8200             80100.0  \n",
            "2           333.0       117.0         1.6509             85700.0  \n",
            "3           515.0       226.0         3.1917             73400.0  \n",
            "4           624.0       262.0         1.9250             65500.0  \n",
            "...           ...         ...            ...                 ...  \n",
            "16995       907.0       369.0         2.3571            111400.0  \n",
            "16996      1194.0       465.0         2.5179             79000.0  \n",
            "16997      1244.0       456.0         3.0313            103600.0  \n",
            "16998      1298.0       478.0         1.9797             85800.0  \n",
            "16999       806.0       270.0         3.0147             94600.0  \n",
            "\n",
            "[17000 rows x 9 columns]\n"
          ]
        }
      ]
    },
    {
      "cell_type": "markdown",
      "source": [
        "데이터프레임을 훑어보기 위해 제일 많이 활용하는 함수로 head함수와 shape 함수가 있다.\n",
        "head(x)함수는 맨 앞 x개의 행을 반환하고,\n",
        "shape(x)함수는 데이터프레임의 행과 열 정보를 튜플 형태로 반환한다."
      ],
      "metadata": {
        "id": "K308uQIF-AWI"
      }
    },
    {
      "cell_type": "code",
      "source": [
        "print('DataFrame 크기 : ', housing_df.shape)\n",
        "print(housing_df.head(5)) #맨 앞 5개의 행 반환, 현재 컬럼은 9개"
      ],
      "metadata": {
        "colab": {
          "base_uri": "https://localhost:8080/"
        },
        "id": "TBNWwnuU953x",
        "outputId": "cce55d40-142a-427a-9989-11ebfc4f4399"
      },
      "execution_count": 7,
      "outputs": [
        {
          "output_type": "stream",
          "name": "stdout",
          "text": [
            "DataFrame 크기 :  (17000, 9)\n",
            "   longitude  latitude  housing_median_age  total_rooms  total_bedrooms  \\\n",
            "0    -114.31     34.19                15.0       5612.0          1283.0   \n",
            "1    -114.47     34.40                19.0       7650.0          1901.0   \n",
            "2    -114.56     33.69                17.0        720.0           174.0   \n",
            "3    -114.57     33.64                14.0       1501.0           337.0   \n",
            "4    -114.57     33.57                20.0       1454.0           326.0   \n",
            "\n",
            "   population  households  median_income  median_house_value  \n",
            "0      1015.0       472.0         1.4936             66900.0  \n",
            "1      1129.0       463.0         1.8200             80100.0  \n",
            "2       333.0       117.0         1.6509             85700.0  \n",
            "3       515.0       226.0         3.1917             73400.0  \n",
            "4       624.0       262.0         1.9250             65500.0  \n"
          ]
        }
      ]
    },
    {
      "cell_type": "markdown",
      "source": [
        "데이터프레임의 데이터뿐만 아니라 Non-Null 데이터 개수, 컬럼의 타입, 기초 통계 정보도\n",
        "조회가 가능하다.\n",
        "info함수와 describe 함수가 있다."
      ],
      "metadata": {
        "id": "y1kjzSP4-hbJ"
      }
    },
    {
      "cell_type": "code",
      "source": [
        "print(housing_df.info())"
      ],
      "metadata": {
        "colab": {
          "base_uri": "https://localhost:8080/"
        },
        "id": "IPMc3-WD-eDh",
        "outputId": "760c6d09-22c5-4947-accf-fe8458a64abc"
      },
      "execution_count": 8,
      "outputs": [
        {
          "output_type": "stream",
          "name": "stdout",
          "text": [
            "<class 'pandas.core.frame.DataFrame'>\n",
            "RangeIndex: 17000 entries, 0 to 16999\n",
            "Data columns (total 9 columns):\n",
            " #   Column              Non-Null Count  Dtype  \n",
            "---  ------              --------------  -----  \n",
            " 0   longitude           17000 non-null  float64\n",
            " 1   latitude            17000 non-null  float64\n",
            " 2   housing_median_age  17000 non-null  float64\n",
            " 3   total_rooms         17000 non-null  float64\n",
            " 4   total_bedrooms      17000 non-null  float64\n",
            " 5   population          17000 non-null  float64\n",
            " 6   households          17000 non-null  float64\n",
            " 7   median_income       17000 non-null  float64\n",
            " 8   median_house_value  17000 non-null  float64\n",
            "dtypes: float64(9)\n",
            "memory usage: 1.2 MB\n",
            "None\n"
          ]
        }
      ]
    },
    {
      "cell_type": "markdown",
      "source": [
        "describe함수는 컬럼별 숫자형 데이터의 개수, 평균값, 표준편차, 최솟값, 사분위수값, 최댓값을 나타낸다.\n",
        "오직 숫자형(정수형, 실수형) 컬럼의 기초 통계 정보만 계산해서 출력하며 문자형 타입의 컬럼은 자동으로 출력에서 제외시킨다."
      ],
      "metadata": {
        "id": "5ucMklJX-9GH"
      }
    },
    {
      "cell_type": "code",
      "source": [
        "print(housing_df.describe()) #문자형은 자동으로 출력에서 제외"
      ],
      "metadata": {
        "colab": {
          "base_uri": "https://localhost:8080/"
        },
        "id": "9CwkWBfh_O0p",
        "outputId": "fe1879bf-c62d-46cd-9838-b48d78d87674"
      },
      "execution_count": 9,
      "outputs": [
        {
          "output_type": "stream",
          "name": "stdout",
          "text": [
            "          longitude      latitude  housing_median_age   total_rooms  \\\n",
            "count  17000.000000  17000.000000        17000.000000  17000.000000   \n",
            "mean    -119.562108     35.625225           28.589353   2643.664412   \n",
            "std        2.005166      2.137340           12.586937   2179.947071   \n",
            "min     -124.350000     32.540000            1.000000      2.000000   \n",
            "25%     -121.790000     33.930000           18.000000   1462.000000   \n",
            "50%     -118.490000     34.250000           29.000000   2127.000000   \n",
            "75%     -118.000000     37.720000           37.000000   3151.250000   \n",
            "max     -114.310000     41.950000           52.000000  37937.000000   \n",
            "\n",
            "       total_bedrooms    population    households  median_income  \\\n",
            "count    17000.000000  17000.000000  17000.000000   17000.000000   \n",
            "mean       539.410824   1429.573941    501.221941       3.883578   \n",
            "std        421.499452   1147.852959    384.520841       1.908157   \n",
            "min          1.000000      3.000000      1.000000       0.499900   \n",
            "25%        297.000000    790.000000    282.000000       2.566375   \n",
            "50%        434.000000   1167.000000    409.000000       3.544600   \n",
            "75%        648.250000   1721.000000    605.250000       4.767000   \n",
            "max       6445.000000  35682.000000   6082.000000      15.000100   \n",
            "\n",
            "       median_house_value  \n",
            "count        17000.000000  \n",
            "mean        207300.912353  \n",
            "std         115983.764387  \n",
            "min          14999.000000  \n",
            "25%         119400.000000  \n",
            "50%         180400.000000  \n",
            "75%         265000.000000  \n",
            "max         500001.000000  \n"
          ]
        }
      ]
    },
    {
      "cell_type": "code",
      "source": [
        "housing_median_age = housing_df['housing_median_age']\n",
        "# 데이터프레임의 []연산자 내부에 '컬럼명'을 입력하면 해당 컬럼에 해당하는\n",
        "# 시리즈 객체를 반환한다. (1차원 형태의 배열을 출력해줌.)\n",
        "# 모든 시리즈와 데이터프레임은 인덱스를 반드시 가진다.\n",
        "\n",
        "print(housing_median_age.head())"
      ],
      "metadata": {
        "colab": {
          "base_uri": "https://localhost:8080/"
        },
        "id": "0XYrhvcu_bZq",
        "outputId": "6a1f24b7-cd38-4062-93df-fde02ce934e0"
      },
      "execution_count": 10,
      "outputs": [
        {
          "output_type": "stream",
          "name": "stdout",
          "text": [
            "0    15.0\n",
            "1    19.0\n",
            "2    17.0\n",
            "3    14.0\n",
            "4    20.0\n",
            "Name: housing_median_age, dtype: float64\n"
          ]
        }
      ]
    },
    {
      "cell_type": "code",
      "source": [
        "value_counts = housing_median_age.value_counts()\n",
        "# value_counts 함수를 호출하면 해당 컬럼 값의 유형과 건수를 확인할 수 있다.\n",
        "# 데이터의 분포도를 확인하는데 매우 유용한 함수이다.\n",
        "print(value_counts)"
      ],
      "metadata": {
        "colab": {
          "base_uri": "https://localhost:8080/"
        },
        "id": "aTXKYUA3AKKG",
        "outputId": "7749e317-20ff-4138-8055-d3458c290d69"
      },
      "execution_count": 11,
      "outputs": [
        {
          "output_type": "stream",
          "name": "stdout",
          "text": [
            "housing_median_age\n",
            "52.0    1052\n",
            "36.0     715\n",
            "35.0     692\n",
            "16.0     635\n",
            "17.0     576\n",
            "34.0     567\n",
            "33.0     513\n",
            "26.0     503\n",
            "18.0     478\n",
            "25.0     461\n",
            "32.0     458\n",
            "37.0     437\n",
            "15.0     416\n",
            "19.0     412\n",
            "28.0     400\n",
            "27.0     397\n",
            "24.0     389\n",
            "31.0     384\n",
            "30.0     384\n",
            "20.0     383\n",
            "23.0     382\n",
            "29.0     374\n",
            "21.0     373\n",
            "14.0     347\n",
            "22.0     323\n",
            "38.0     318\n",
            "42.0     308\n",
            "39.0     302\n",
            "44.0     296\n",
            "43.0     286\n",
            "13.0     249\n",
            "40.0     249\n",
            "45.0     235\n",
            "41.0     232\n",
            "10.0     226\n",
            "11.0     208\n",
            "5.0      199\n",
            "46.0     196\n",
            "12.0     192\n",
            "8.0      178\n",
            "47.0     175\n",
            "9.0      172\n",
            "4.0      161\n",
            "7.0      151\n",
            "48.0     135\n",
            "6.0      129\n",
            "50.0     112\n",
            "49.0     111\n",
            "2.0       49\n",
            "3.0       46\n",
            "51.0      32\n",
            "1.0        2\n",
            "Name: count, dtype: int64\n"
          ]
        }
      ]
    },
    {
      "cell_type": "code",
      "source": [
        "housing_df['Age_0'] = 0 #Age_0 컬럼 새로 생성, 일괄적으로 0값을 할당\n",
        "# 컬럼 시리즈에 특정 값을 할당하고 데이터프레임을 추가하는 것은 pandas에서 매우 간단하다.\n",
        "print(housing_df.head(3))"
      ],
      "metadata": {
        "colab": {
          "base_uri": "https://localhost:8080/"
        },
        "id": "uKM88LE5A7EC",
        "outputId": "baa2243f-01fe-47e4-e865-7aa0fc04185d"
      },
      "execution_count": 13,
      "outputs": [
        {
          "output_type": "stream",
          "name": "stdout",
          "text": [
            "   longitude  latitude  housing_median_age  total_rooms  total_bedrooms  \\\n",
            "0    -114.31     34.19                15.0       5612.0          1283.0   \n",
            "1    -114.47     34.40                19.0       7650.0          1901.0   \n",
            "2    -114.56     33.69                17.0        720.0           174.0   \n",
            "\n",
            "   population  households  median_income  median_house_value  Age_0  \n",
            "0      1015.0       472.0         1.4936             66900.0      0  \n",
            "1      1129.0       463.0         1.8200             80100.0      0  \n",
            "2       333.0       117.0         1.6509             85700.0      0  \n"
          ]
        }
      ]
    },
    {
      "cell_type": "code",
      "source": [
        "housing_df['Age_by_10'] = housing_df['housing_median_age'] // 10\n",
        "print(housing_df.head(3))"
      ],
      "metadata": {
        "colab": {
          "base_uri": "https://localhost:8080/"
        },
        "id": "hKCPfeFXBgML",
        "outputId": "0729a4a4-1f89-44f8-ad71-c5c1463a8a96"
      },
      "execution_count": 14,
      "outputs": [
        {
          "output_type": "stream",
          "name": "stdout",
          "text": [
            "   longitude  latitude  housing_median_age  total_rooms  total_bedrooms  \\\n",
            "0    -114.31     34.19                15.0       5612.0          1283.0   \n",
            "1    -114.47     34.40                19.0       7650.0          1901.0   \n",
            "2    -114.56     33.69                17.0        720.0           174.0   \n",
            "\n",
            "   population  households  median_income  median_house_value  Age_0  Age_by_10  \n",
            "0      1015.0       472.0         1.4936             66900.0      0        1.0  \n",
            "1      1129.0       463.0         1.8200             80100.0      0        1.0  \n",
            "2       333.0       117.0         1.6509             85700.0      0        1.0  \n"
          ]
        }
      ]
    },
    {
      "cell_type": "code",
      "source": [
        "housing_df['Age_by_10'] = housing_df['Age_by_10'] * 10\n",
        "print(housing_df.head(3))"
      ],
      "metadata": {
        "colab": {
          "base_uri": "https://localhost:8080/"
        },
        "id": "r3VtJdSZB0F5",
        "outputId": "36b2a23c-070c-44c9-dd13-dab6a3ab5b88"
      },
      "execution_count": 15,
      "outputs": [
        {
          "output_type": "stream",
          "name": "stdout",
          "text": [
            "   longitude  latitude  housing_median_age  total_rooms  total_bedrooms  \\\n",
            "0    -114.31     34.19                15.0       5612.0          1283.0   \n",
            "1    -114.47     34.40                19.0       7650.0          1901.0   \n",
            "2    -114.56     33.69                17.0        720.0           174.0   \n",
            "\n",
            "   population  households  median_income  median_house_value  Age_0  Age_by_10  \n",
            "0      1015.0       472.0         1.4936             66900.0      0       10.0  \n",
            "1      1129.0       463.0         1.8200             80100.0      0       10.0  \n",
            "2       333.0       117.0         1.6509             85700.0      0       10.0  \n"
          ]
        }
      ]
    },
    {
      "cell_type": "code",
      "source": [
        "value_counts = housing_df['Age_by_10'].value_counts()\n",
        "# 컬럼의 연령대를 구분할 수 있는 정보를 추가함.\n",
        "print(value_counts)"
      ],
      "metadata": {
        "colab": {
          "base_uri": "https://localhost:8080/"
        },
        "id": "qtJT77i3B22J",
        "outputId": "b931b1a8-a01d-4f52-b9ee-f3f33ff0c824"
      },
      "execution_count": 16,
      "outputs": [
        {
          "output_type": "stream",
          "name": "stdout",
          "text": [
            "Age_by_10\n",
            "30.0    4770\n",
            "20.0    3985\n",
            "10.0    3739\n",
            "40.0    2223\n",
            "50.0    1196\n",
            "0.0     1087\n",
            "Name: count, dtype: int64\n"
          ]
        }
      ]
    },
    {
      "cell_type": "markdown",
      "source": [
        "drop(labels, axix=0, index=None, level=None, inplace=False, errors='raise')\n",
        "axis값에 따라서 특정 컬럼 또는 특정 행을 삭제함.\n",
        "axis값을 0으로 지정하면 행 방향의 데이터를 삭제하며, axis값을 1로 지정하면 컬럼 방향의 데이터를 삭제함.\n",
        "* inplace=False로 설정하면 원 데이터프레임의 데이터는 삭제하지 않으며, 삭제된 결과 데이터프레임을 반환하게 된다.\n",
        "True는 원 데이터프레임의 데이터를 삭제한다.\n",
        "* 여러개의 컬럼 데이터 삭제가 필요한 경우,\n",
        "삭제하고자 하는 컬럼명을 리스트 형태로 labels 영역에 입력하면 된다."
      ],
      "metadata": {
        "id": "N9MaGJL0COH5"
      }
    },
    {
      "cell_type": "code",
      "source": [
        "housing_drop_df = housing_df.drop('Age_0', axis=1)\n",
        "#axis=0은 보통 이상치 데이터를 삭제하는 경우에 주로 사용된다.\n",
        "print(housing_drop_df.head(3))"
      ],
      "metadata": {
        "colab": {
          "base_uri": "https://localhost:8080/"
        },
        "id": "4W0edANhCH3M",
        "outputId": "cc3ea2d0-35ad-41fe-ba3c-69a6c41daef8"
      },
      "execution_count": 19,
      "outputs": [
        {
          "output_type": "stream",
          "name": "stdout",
          "text": [
            "   longitude  latitude  housing_median_age  total_rooms  total_bedrooms  \\\n",
            "0    -114.31     34.19                15.0       5612.0          1283.0   \n",
            "1    -114.47     34.40                19.0       7650.0          1901.0   \n",
            "2    -114.56     33.69                17.0        720.0           174.0   \n",
            "\n",
            "   population  households  median_income  median_house_value  Age_by_10  \n",
            "0      1015.0       472.0         1.4936             66900.0       10.0  \n",
            "1      1129.0       463.0         1.8200             80100.0       10.0  \n",
            "2       333.0       117.0         1.6509             85700.0       10.0  \n"
          ]
        }
      ]
    },
    {
      "cell_type": "code",
      "source": [
        "drop_result = housing_df.drop(['Age_0', 'Age_by_10'], axis=1, inplace=True)\n",
        "print('drop_result 반환값 : ', drop_result)\n",
        "print(housing_df.head(3))"
      ],
      "metadata": {
        "colab": {
          "base_uri": "https://localhost:8080/"
        },
        "id": "D2A4sAJ6DqzS",
        "outputId": "9b8a25b6-319f-43a4-f881-9d959d63e94a"
      },
      "execution_count": 20,
      "outputs": [
        {
          "output_type": "stream",
          "name": "stdout",
          "text": [
            "drop_result 반환값 :  None\n",
            "   longitude  latitude  housing_median_age  total_rooms  total_bedrooms  \\\n",
            "0    -114.31     34.19                15.0       5612.0          1283.0   \n",
            "1    -114.47     34.40                19.0       7650.0          1901.0   \n",
            "2    -114.56     33.69                17.0        720.0           174.0   \n",
            "\n",
            "   population  households  median_income  median_house_value  \n",
            "0      1015.0       472.0         1.4936             66900.0  \n",
            "1      1129.0       463.0         1.8200             80100.0  \n",
            "2       333.0       117.0         1.6509             85700.0  \n"
          ]
        }
      ]
    },
    {
      "cell_type": "code",
      "source": [
        "housing_drop_df = housing_df.drop([0, 1, 2], axis=0)\n",
        "# axis=0은 행방향으로 데이터 삭제\n",
        "print(housing_drop_df.head(3))"
      ],
      "metadata": {
        "colab": {
          "base_uri": "https://localhost:8080/"
        },
        "id": "7XWPeONiDyp5",
        "outputId": "99d9f1f2-f790-4243-ea0e-33dd8ba8fddc"
      },
      "execution_count": 21,
      "outputs": [
        {
          "output_type": "stream",
          "name": "stdout",
          "text": [
            "   longitude  latitude  housing_median_age  total_rooms  total_bedrooms  \\\n",
            "3    -114.57     33.64                14.0       1501.0           337.0   \n",
            "4    -114.57     33.57                20.0       1454.0           326.0   \n",
            "5    -114.58     33.63                29.0       1387.0           236.0   \n",
            "\n",
            "   population  households  median_income  median_house_value  \n",
            "3       515.0       226.0         3.1917             73400.0  \n",
            "4       624.0       262.0         1.9250             65500.0  \n",
            "5       671.0       239.0         3.3438             74000.0  \n"
          ]
        }
      ]
    },
    {
      "cell_type": "markdown",
      "source": [
        "numpy와 pandas는 데이터 조회가 상당히 유사한 부분이 있지만,\n",
        "* numpy는 []연산자는 행의 위치, 열의 위치, 슬라이싱 범위 등을 지정해 데이터를 가져올 수 있다.\n",
        "* 데이터프레임 바로 뒤 []안에 들어갈 수 있는 것은 컬럼명 문자 또는 인덱스로 변환 가능한 표현식이다.\n",
        "* ex) housing_df[0:3] => 데이터프레임의 첫 3개 행의 데이터를 추출"
      ],
      "metadata": {
        "id": "0u-0fvENEm_T"
      }
    },
    {
      "cell_type": "code",
      "source": [
        "print('단일 컬럼 데이터 조회 :\\n', housing_df['housing_median_age'].head(3))\n",
        "print('\\n복수 컬럼 데이터 조회 :\\n', housing_df[['housing_median_age', 'total_rooms']].head(3))"
      ],
      "metadata": {
        "colab": {
          "base_uri": "https://localhost:8080/"
        },
        "id": "QYH4n6r-ERDS",
        "outputId": "ed710cd0-1a85-4967-bcbb-dd4236eba1a4"
      },
      "execution_count": 22,
      "outputs": [
        {
          "output_type": "stream",
          "name": "stdout",
          "text": [
            "단일 컬럼 데이터 조회 :\n",
            " 0    15.0\n",
            "1    19.0\n",
            "2    17.0\n",
            "Name: housing_median_age, dtype: float64\n",
            "\n",
            "복수 컬럼 데이터 조회 :\n",
            "    housing_median_age  total_rooms\n",
            "0                15.0       5612.0\n",
            "1                19.0       7650.0\n",
            "2                17.0        720.0\n"
          ]
        }
      ]
    },
    {
      "cell_type": "code",
      "source": [
        "print(housing_df[0:3]) #데이터프레임의 첫 3개 행의 데이터를 추출"
      ],
      "metadata": {
        "colab": {
          "base_uri": "https://localhost:8080/"
        },
        "id": "YLz9G3w2FRCZ",
        "outputId": "9dae496e-f45c-45a9-fe6b-bc70d2cb4c40"
      },
      "execution_count": 24,
      "outputs": [
        {
          "output_type": "stream",
          "name": "stdout",
          "text": [
            "   longitude  latitude  housing_median_age  total_rooms  total_bedrooms  \\\n",
            "0    -114.31     34.19                15.0       5612.0          1283.0   \n",
            "1    -114.47     34.40                19.0       7650.0          1901.0   \n",
            "2    -114.56     33.69                17.0        720.0           174.0   \n",
            "\n",
            "   population  households  median_income  median_house_value  \n",
            "0      1015.0       472.0         1.4936             66900.0  \n",
            "1      1129.0       463.0         1.8200             80100.0  \n",
            "2       333.0       117.0         1.6509             85700.0  \n"
          ]
        }
      ]
    },
    {
      "cell_type": "code",
      "source": [
        "print(housing_df[housing_df['housing_median_age'] == 30].head(3))\n",
        "# 해당 컬럼의 데이터 값이 30인 경우만 추출한 결과가 된다.\n",
        "# and : &, or : |, Not : ~"
      ],
      "metadata": {
        "colab": {
          "base_uri": "https://localhost:8080/"
        },
        "id": "BjmklTfOFiQq",
        "outputId": "e5b5410a-4719-4f67-f698-36f9bc469e35"
      },
      "execution_count": 25,
      "outputs": [
        {
          "output_type": "stream",
          "name": "stdout",
          "text": [
            "     longitude  latitude  housing_median_age  total_rooms  total_bedrooms  \\\n",
            "26     -115.37     32.82                30.0       1602.0           322.0   \n",
            "50     -115.52     34.22                30.0        540.0           136.0   \n",
            "101    -115.59     32.69                30.0        935.0           177.0   \n",
            "\n",
            "     population  households  median_income  median_house_value  \n",
            "26       1130.0       335.0         3.5735             71100.0  \n",
            "50        122.0        63.0         1.3333             42500.0  \n",
            "101       649.0       148.0         2.5769             94400.0  \n"
          ]
        }
      ]
    },
    {
      "cell_type": "code",
      "source": [
        "print(housing_df[\n",
        "           (housing_df['housing_median_age'] > 30) &\n",
        "           (housing_df['total_rooms'] < 100) &\n",
        "           (housing_df['median_income'] > 10)\n",
        "           ].head(3))"
      ],
      "metadata": {
        "colab": {
          "base_uri": "https://localhost:8080/"
        },
        "id": "1EenxrTLF3rz",
        "outputId": "75a54651-0fea-4309-a09e-c66d6f604931"
      },
      "execution_count": 26,
      "outputs": [
        {
          "output_type": "stream",
          "name": "stdout",
          "text": [
            "       longitude  latitude  housing_median_age  total_rooms  total_bedrooms  \\\n",
            "6030     -118.22     34.06                52.0         48.0             6.0   \n",
            "13055    -121.87     37.46                43.0         91.0            12.0   \n",
            "14501    -122.14     37.50                46.0         30.0             4.0   \n",
            "\n",
            "       population  households  median_income  median_house_value  \n",
            "6030         41.0        10.0        10.2264            112500.0  \n",
            "13055        58.0        16.0        15.0001            500001.0  \n",
            "14501        13.0         5.0        15.0001            500001.0  \n"
          ]
        }
      ]
    },
    {
      "cell_type": "code",
      "source": [
        "print(housing_df.iloc[0, 2])\n",
        "#iloc함수는 위치 기반 인덱싱을 허용하기 때문에 행과 열의 값으로 정수형 또는\n",
        "# 정수형의 슬라이싱 값을 입력해야 된다.\n",
        "# 데이터프레임의 첫번째 행, 첫번째 열을 추출하고자 한다면 iloc[0,0]과 같이\n",
        "# 위치 기반 인덱싱 값을 입력하면 된다.\n",
        "# 위 코드는 세번째 컬럼에 해당하는 첫번째 행 값을 추출한 결과이다."
      ],
      "metadata": {
        "colab": {
          "base_uri": "https://localhost:8080/"
        },
        "id": "cQOLFLqtF_6z",
        "outputId": "ffa83acc-9087-4646-9ad9-edc3aca060bb"
      },
      "execution_count": 27,
      "outputs": [
        {
          "output_type": "stream",
          "name": "stdout",
          "text": [
            "15.0\n"
          ]
        }
      ]
    },
    {
      "cell_type": "code",
      "source": [
        "print(housing_df.loc[0, 'housing_median_age'])\n",
        "#loc함수는 명칭 기반으로 데이터를 추출한다.\n",
        "# 따라서 행 위치에는 데이터프레임의 인덱스 값을 입력하며,\n",
        "# 열 위치에는 컬럼명을 입력해준다.\n",
        "# 위 코드는 컬럼의 첫번째 행 값을 추출한 결과이다."
      ],
      "metadata": {
        "colab": {
          "base_uri": "https://localhost:8080/"
        },
        "id": "vP-LCyCpGn3T",
        "outputId": "461bd139-0a73-4dba-e61b-24ece87ddcfb"
      },
      "execution_count": 28,
      "outputs": [
        {
          "output_type": "stream",
          "name": "stdout",
          "text": [
            "15.0\n"
          ]
        }
      ]
    },
    {
      "cell_type": "code",
      "source": [
        "print(housing_df.loc[0:4, 'housing_median_age'])\n",
        "#loc함수로 복수행의 데이터를 조회할 수 있다. 0부터 4행까지 출력"
      ],
      "metadata": {
        "colab": {
          "base_uri": "https://localhost:8080/"
        },
        "id": "YGQyN3deHbAY",
        "outputId": "e40233ef-0182-4530-d15d-b354aaf5a160"
      },
      "execution_count": 30,
      "outputs": [
        {
          "output_type": "stream",
          "name": "stdout",
          "text": [
            "0    15.0\n",
            "1    19.0\n",
            "2    17.0\n",
            "3    14.0\n",
            "4    20.0\n",
            "Name: housing_median_age, dtype: float64\n"
          ]
        }
      ]
    },
    {
      "cell_type": "code",
      "source": [
        "print(housing_df.loc[housing_df['housing_median_age'] == 30, ['housing_median_age', 'total_bedrooms']].head(3))\n",
        "# loc함수를 쓰니 명칭 기반 데이터를 추출하고,  30이면서 뒤 조건을 만족하는 컬럼 출력"
      ],
      "metadata": {
        "colab": {
          "base_uri": "https://localhost:8080/"
        },
        "id": "jntwTphYHHgr",
        "outputId": "910005f2-78e8-4b24-f299-e3b2bcea06b0"
      },
      "execution_count": 29,
      "outputs": [
        {
          "output_type": "stream",
          "name": "stdout",
          "text": [
            "     housing_median_age  total_bedrooms\n",
            "26                 30.0           322.0\n",
            "50                 30.0           136.0\n",
            "101                30.0           177.0\n"
          ]
        }
      ]
    },
    {
      "cell_type": "code",
      "source": [
        "housing_sorted = housing_df.sort_values(by=['housing_median_age'])\n",
        "print(housing_sorted.head(3))\n",
        "# sort_values를 이용하여 정렬할 수 있다.\n",
        "# 데이터 프레임과 시리즈는 sort_values를 이용하여 정렬한다.\n",
        "# 주요 매개 변수는 by, ascending,inplace이다.\n",
        "# by : 해당 컬럼으로 정렬 수행\n",
        "# ascending=True로 설정하면 오름차순으로 정렬 False는 내림차순으로 정렬\n",
        "# inplace=False로 설정하면 원 데이터프레임은 그대로 유지되며 정렬된 결과 반영"
      ],
      "metadata": {
        "colab": {
          "base_uri": "https://localhost:8080/"
        },
        "id": "T0o_KYMtHxZs",
        "outputId": "e481c58b-2a66-4d2a-dc52-f64aa1815569"
      },
      "execution_count": 31,
      "outputs": [
        {
          "output_type": "stream",
          "name": "stdout",
          "text": [
            "       longitude  latitude  housing_median_age  total_rooms  total_bedrooms  \\\n",
            "13708    -122.00     38.23                 1.0       2062.0           343.0   \n",
            "10993    -120.93     37.65                 1.0       2254.0           328.0   \n",
            "1353     -117.17     34.12                 2.0       3867.0           573.0   \n",
            "\n",
            "       population  households  median_income  median_house_value  \n",
            "13708       872.0       268.0         5.2636            191300.0  \n",
            "10993       402.0       112.0         4.2500            189200.0  \n",
            "1353       1275.0       433.0         5.4138            164400.0  \n"
          ]
        }
      ]
    },
    {
      "cell_type": "code",
      "source": [
        "housing_sorted = housing_df.sort_values(by=['housing_median_age', 'total_rooms'], ascending=False)\n",
        "print(housing_sorted.head(3))"
      ],
      "metadata": {
        "colab": {
          "base_uri": "https://localhost:8080/"
        },
        "id": "A00LuYInIdTC",
        "outputId": "7ae11033-f7f6-47a9-eef7-822ef29bcfb6"
      },
      "execution_count": 32,
      "outputs": [
        {
          "output_type": "stream",
          "name": "stdout",
          "text": [
            "       longitude  latitude  housing_median_age  total_rooms  total_bedrooms  \\\n",
            "15772    -122.41     37.79                52.0       6016.0          2509.0   \n",
            "15773    -122.41     37.79                52.0       5783.0          2747.0   \n",
            "11163    -121.03     40.35                52.0       5486.0          1044.0   \n",
            "\n",
            "       population  households  median_income  median_house_value  \n",
            "15772      3436.0      2119.0         2.5166            275000.0  \n",
            "15773      4518.0      2538.0         1.7240            225000.0  \n",
            "11163      1977.0       754.0         2.1833             49500.0  \n"
          ]
        }
      ]
    },
    {
      "cell_type": "code",
      "source": [
        "print(housing_df.sum() / housing_df.count())"
      ],
      "metadata": {
        "colab": {
          "base_uri": "https://localhost:8080/"
        },
        "id": "70NMVPDhIi-y",
        "outputId": "0dfaa822-d513-4e85-e4ed-670d7ac0713c"
      },
      "execution_count": 33,
      "outputs": [
        {
          "output_type": "stream",
          "name": "stdout",
          "text": [
            "longitude               -119.562108\n",
            "latitude                  35.625225\n",
            "housing_median_age        28.589353\n",
            "total_rooms             2643.664412\n",
            "total_bedrooms           539.410824\n",
            "population              1429.573941\n",
            "households               501.221941\n",
            "median_income              3.883578\n",
            "median_house_value    207300.912353\n",
            "dtype: float64\n"
          ]
        }
      ]
    },
    {
      "cell_type": "code",
      "source": [
        "print(housing_df[['housing_median_age', 'total_rooms']].mean())\n",
        "# 특정 컬럼에만 함수 적용"
      ],
      "metadata": {
        "colab": {
          "base_uri": "https://localhost:8080/"
        },
        "id": "wVLHdP-LI2rQ",
        "outputId": "a8198a66-a310-45c2-fb37-aa3d6e2af524"
      },
      "execution_count": 34,
      "outputs": [
        {
          "output_type": "stream",
          "name": "stdout",
          "text": [
            "housing_median_age      28.589353\n",
            "total_rooms           2643.664412\n",
            "dtype: float64\n"
          ]
        }
      ]
    },
    {
      "cell_type": "code",
      "source": [
        "housing_groupby = housing_df.groupby('housing_median_age').mean()\n",
        "print(housing_groupby.head(3))"
      ],
      "metadata": {
        "colab": {
          "base_uri": "https://localhost:8080/"
        },
        "id": "syv-m5YbJLQq",
        "outputId": "8009da6e-6863-4472-e021-66014e7f3af1"
      },
      "execution_count": 38,
      "outputs": [
        {
          "output_type": "stream",
          "name": "stdout",
          "text": [
            "                     longitude   latitude  total_rooms  total_bedrooms  \\\n",
            "housing_median_age                                                       \n",
            "1.0                -121.465000  37.940000  2158.000000      335.500000   \n",
            "2.0                -119.035306  35.410816  5237.102041      871.448980   \n",
            "3.0                -118.798478  35.164783  6920.326087     1190.826087   \n",
            "\n",
            "                     population   households  median_income  \\\n",
            "housing_median_age                                            \n",
            "1.0                  637.000000   190.000000       4.756800   \n",
            "2.0                 2005.224490   707.122449       5.074237   \n",
            "3.0                 2934.673913  1030.413043       5.572013   \n",
            "\n",
            "                    median_house_value  \n",
            "housing_median_age                      \n",
            "1.0                      190250.000000  \n",
            "2.0                      229438.836735  \n",
            "3.0                      239450.043478  \n"
          ]
        }
      ]
    },
    {
      "cell_type": "code",
      "source": [
        "housing_groupby = housing_df.groupby('housing_median_age')[['total_rooms', 'total_bedrooms']].mean()\n",
        "print(housing_groupby.head(3))"
      ],
      "metadata": {
        "colab": {
          "base_uri": "https://localhost:8080/"
        },
        "id": "ukgsYmCrJP3z",
        "outputId": "6f1c9f57-27f5-47da-f8a2-bd454616eb90"
      },
      "execution_count": 36,
      "outputs": [
        {
          "output_type": "stream",
          "name": "stdout",
          "text": [
            "                    total_rooms  total_bedrooms\n",
            "housing_median_age                             \n",
            "1.0                 2158.000000      335.500000\n",
            "2.0                 5237.102041      871.448980\n",
            "3.0                 6920.326087     1190.826087\n"
          ]
        }
      ]
    },
    {
      "cell_type": "code",
      "source": [
        "housing_groupby = housing_df.groupby('housing_median_age')['total_rooms'].agg([min, max, sum])\n",
        "print(housing_groupby.head(3))"
      ],
      "metadata": {
        "colab": {
          "base_uri": "https://localhost:8080/"
        },
        "id": "IQXtAW37JeTc",
        "outputId": "2e66b59e-0cfc-4183-fc0f-25f85668812c"
      },
      "execution_count": 39,
      "outputs": [
        {
          "output_type": "stream",
          "name": "stdout",
          "text": [
            "                       min      max       sum\n",
            "housing_median_age                           \n",
            "1.0                 2062.0   2254.0    4316.0\n",
            "2.0                   96.0  21897.0  256618.0\n",
            "3.0                  475.0  21060.0  318335.0\n"
          ]
        }
      ]
    },
    {
      "cell_type": "code",
      "source": [
        "import numpy as np\n",
        "\n",
        "housing_df['Age_na'] = np.nan\n",
        "print(housing_df.isna().head(3))\n",
        "# 결측치는 컬럼에 값이 없는 경우, 즉 Null인 경우를 의미한다.\n",
        "# 결측치 여부를 확인하는 함수는 isna 함수\n",
        "# 결측치를 다른 값으로 대체하는 함수는 fillna함수\n"
      ],
      "metadata": {
        "colab": {
          "base_uri": "https://localhost:8080/"
        },
        "id": "zjzNp4BKJiT1",
        "outputId": "b5d7d511-9c25-428e-ee1e-7dedac83f517"
      },
      "execution_count": 40,
      "outputs": [
        {
          "output_type": "stream",
          "name": "stdout",
          "text": [
            "   longitude  latitude  housing_median_age  total_rooms  total_bedrooms  \\\n",
            "0      False     False               False        False           False   \n",
            "1      False     False               False        False           False   \n",
            "2      False     False               False        False           False   \n",
            "\n",
            "   population  households  median_income  median_house_value  Age_na  \n",
            "0       False       False          False               False    True  \n",
            "1       False       False          False               False    True  \n",
            "2       False       False          False               False    True  \n"
          ]
        }
      ]
    },
    {
      "cell_type": "code",
      "source": [
        "print(housing_df.isna().sum())\n",
        "# isna함수 결과에 sum 함수를 추가해 구할 수 있다.\n",
        "# sum함수를 호출 시 결측치 True는 숫자 1로,\n",
        "# 결측치 False는 숫자 0으로 변화되므로 결측치 개수를 구할 수 있다."
      ],
      "metadata": {
        "colab": {
          "base_uri": "https://localhost:8080/"
        },
        "id": "JX3V_j1gMDYs",
        "outputId": "38dc330d-e819-4a2e-a91d-d060ff82adff"
      },
      "execution_count": 41,
      "outputs": [
        {
          "output_type": "stream",
          "name": "stdout",
          "text": [
            "longitude                 0\n",
            "latitude                  0\n",
            "housing_median_age        0\n",
            "total_rooms               0\n",
            "total_bedrooms            0\n",
            "population                0\n",
            "households                0\n",
            "median_income             0\n",
            "median_house_value        0\n",
            "Age_na                17000\n",
            "dtype: int64\n"
          ]
        }
      ]
    }
  ]
}